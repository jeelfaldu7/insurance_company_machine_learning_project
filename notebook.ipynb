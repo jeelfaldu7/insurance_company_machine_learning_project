{
 "cells": [
  {
   "cell_type": "markdown",
   "metadata": {},
   "source": [
    "# Machine Learning for Customer Analysis for Sure Tomorrow Insurance Company"
   ]
  },
  {
   "cell_type": "markdown",
   "metadata": {},
   "source": [
    "The Sure Tomorrow insurance company wants to solve several tasks with the help of Machine Learning and you are asked to evaluate that possibility.\n",
    "\n",
    "- Task 1: Find customers who are similar to a given customer. This will help the company's agents with marketing.\n",
    "- Task 2: Predict whether a new customer is likely to receive an insurance benefit. Can a prediction model do better than a dummy model?\n",
    "- Task 3: Predict the number of insurance benefits a new customer is likely to receive using a linear regression model.\n",
    "- Task 4: Protect clients' personal data without breaking the model from the previous task. It's necessary to develop a data transformation algorithm that would make it hard to recover personal information if the data fell into the wrong hands. This is called data masking, or data obfuscation. But the data should be protected in such a way that the quality of machine learning models doesn't suffer. You don't need to pick the best model, just prove that the algorithm works correctly."
   ]
  },
  {
   "cell_type": "markdown",
   "metadata": {},
   "source": [
    "# Data Preprocessing & Exploration\n",
    "\n",
    "## Initialization"
   ]
  },
  {
   "cell_type": "code",
   "execution_count": 1,
   "metadata": {},
   "outputs": [],
   "source": [
    "# Import necessary libraries\n",
    "import numpy as np\n",
    "import pandas as pd\n",
    "import seaborn as sns\n",
    "import math\n",
    "import re\n",
    "import sklearn\n",
    "\n",
    "from sklearn.preprocessing import MaxAbsScaler\n",
    "from sklearn.neighbors import NearestNeighbors, KNeighborsClassifier\n",
    "from sklearn.metrics import mean_squared_error, r2_score\n",
    "from sklearn.model_selection import train_test_split\n",
    "from sklearn.linear_model import LinearRegression\n",
    "\n",
    "from IPython.display import display\n",
    "import warnings\n",
    "\n",
    "import warnings\n",
    "warnings.filterwarnings('ignore')"
   ]
  },
  {
   "cell_type": "markdown",
   "metadata": {},
   "source": [
    "## Load Data"
   ]
  },
  {
   "cell_type": "markdown",
   "metadata": {},
   "source": [
    "Load data and conduct a basic check that it's free from obvious issues."
   ]
  },
  {
   "cell_type": "code",
   "execution_count": 2,
   "metadata": {},
   "outputs": [],
   "source": [
    "df = pd.read_csv('datasets/insurance_us.csv')"
   ]
  },
  {
   "cell_type": "markdown",
   "metadata": {},
   "source": [
    "We rename the colums to make the code look more consistent with its style."
   ]
  },
  {
   "cell_type": "code",
   "execution_count": 3,
   "metadata": {},
   "outputs": [],
   "source": [
    "# Replace spaces with underscores and convert all column names to lowercase\n",
    "df.columns = [re.sub(r'\\s+', '_', col).lower() for col in df.columns]"
   ]
  },
  {
   "cell_type": "code",
   "execution_count": 4,
   "metadata": {},
   "outputs": [
    {
     "data": {
      "text/html": [
       "<div>\n",
       "<style scoped>\n",
       "    .dataframe tbody tr th:only-of-type {\n",
       "        vertical-align: middle;\n",
       "    }\n",
       "\n",
       "    .dataframe tbody tr th {\n",
       "        vertical-align: top;\n",
       "    }\n",
       "\n",
       "    .dataframe thead th {\n",
       "        text-align: right;\n",
       "    }\n",
       "</style>\n",
       "<table border=\"1\" class=\"dataframe\">\n",
       "  <thead>\n",
       "    <tr style=\"text-align: right;\">\n",
       "      <th></th>\n",
       "      <th>gender</th>\n",
       "      <th>age</th>\n",
       "      <th>salary</th>\n",
       "      <th>family_members</th>\n",
       "      <th>insurance_benefits</th>\n",
       "    </tr>\n",
       "  </thead>\n",
       "  <tbody>\n",
       "    <tr>\n",
       "      <th>0</th>\n",
       "      <td>1</td>\n",
       "      <td>41.0</td>\n",
       "      <td>49600.0</td>\n",
       "      <td>1</td>\n",
       "      <td>0</td>\n",
       "    </tr>\n",
       "    <tr>\n",
       "      <th>1</th>\n",
       "      <td>0</td>\n",
       "      <td>46.0</td>\n",
       "      <td>38000.0</td>\n",
       "      <td>1</td>\n",
       "      <td>1</td>\n",
       "    </tr>\n",
       "    <tr>\n",
       "      <th>2</th>\n",
       "      <td>0</td>\n",
       "      <td>29.0</td>\n",
       "      <td>21000.0</td>\n",
       "      <td>0</td>\n",
       "      <td>0</td>\n",
       "    </tr>\n",
       "    <tr>\n",
       "      <th>3</th>\n",
       "      <td>0</td>\n",
       "      <td>21.0</td>\n",
       "      <td>41700.0</td>\n",
       "      <td>2</td>\n",
       "      <td>0</td>\n",
       "    </tr>\n",
       "    <tr>\n",
       "      <th>4</th>\n",
       "      <td>1</td>\n",
       "      <td>28.0</td>\n",
       "      <td>26100.0</td>\n",
       "      <td>0</td>\n",
       "      <td>0</td>\n",
       "    </tr>\n",
       "  </tbody>\n",
       "</table>\n",
       "</div>"
      ],
      "text/plain": [
       "   gender   age   salary  family_members  insurance_benefits\n",
       "0       1  41.0  49600.0               1                   0\n",
       "1       0  46.0  38000.0               1                   1\n",
       "2       0  29.0  21000.0               0                   0\n",
       "3       0  21.0  41700.0               2                   0\n",
       "4       1  28.0  26100.0               0                   0"
      ]
     },
     "execution_count": 4,
     "metadata": {},
     "output_type": "execute_result"
    }
   ],
   "source": [
    "# Display the first 5 rows of the DataFrame\n",
    "df.head()"
   ]
  },
  {
   "cell_type": "code",
   "execution_count": 5,
   "metadata": {},
   "outputs": [
    {
     "name": "stdout",
     "output_type": "stream",
     "text": [
      "<class 'pandas.core.frame.DataFrame'>\n",
      "RangeIndex: 5000 entries, 0 to 4999\n",
      "Data columns (total 5 columns):\n",
      " #   Column              Non-Null Count  Dtype  \n",
      "---  ------              --------------  -----  \n",
      " 0   gender              5000 non-null   int64  \n",
      " 1   age                 5000 non-null   float64\n",
      " 2   salary              5000 non-null   float64\n",
      " 3   family_members      5000 non-null   int64  \n",
      " 4   insurance_benefits  5000 non-null   int64  \n",
      "dtypes: float64(2), int64(3)\n",
      "memory usage: 195.4 KB\n"
     ]
    }
   ],
   "source": [
    "# Display the informative summary of the dataset\n",
    "df.info()"
   ]
  },
  {
   "cell_type": "code",
   "execution_count": 6,
   "metadata": {},
   "outputs": [],
   "source": [
    "# Convert the 'age' and 'income' columns to integer type.\n",
    "df['age'] = df['age'].astype(int)\n",
    "df['salary'] = df['salary'].astype(int)"
   ]
  },
  {
   "cell_type": "code",
   "execution_count": 7,
   "metadata": {},
   "outputs": [
    {
     "data": {
      "text/plain": [
       "age       int32\n",
       "salary    int32\n",
       "dtype: object"
      ]
     },
     "execution_count": 7,
     "metadata": {},
     "output_type": "execute_result"
    }
   ],
   "source": [
    "# Check the data type of the 'age' and 'salary' columns\n",
    "df[['age', 'salary']].dtypes"
   ]
  },
  {
   "cell_type": "code",
   "execution_count": 8,
   "metadata": {},
   "outputs": [
    {
     "data": {
      "text/html": [
       "<div>\n",
       "<style scoped>\n",
       "    .dataframe tbody tr th:only-of-type {\n",
       "        vertical-align: middle;\n",
       "    }\n",
       "\n",
       "    .dataframe tbody tr th {\n",
       "        vertical-align: top;\n",
       "    }\n",
       "\n",
       "    .dataframe thead th {\n",
       "        text-align: right;\n",
       "    }\n",
       "</style>\n",
       "<table border=\"1\" class=\"dataframe\">\n",
       "  <thead>\n",
       "    <tr style=\"text-align: right;\">\n",
       "      <th></th>\n",
       "      <th>gender</th>\n",
       "      <th>age</th>\n",
       "      <th>salary</th>\n",
       "      <th>family_members</th>\n",
       "      <th>insurance_benefits</th>\n",
       "    </tr>\n",
       "  </thead>\n",
       "  <tbody>\n",
       "    <tr>\n",
       "      <th>count</th>\n",
       "      <td>5000.000000</td>\n",
       "      <td>5000.000000</td>\n",
       "      <td>5000.000000</td>\n",
       "      <td>5000.000000</td>\n",
       "      <td>5000.000000</td>\n",
       "    </tr>\n",
       "    <tr>\n",
       "      <th>mean</th>\n",
       "      <td>0.499000</td>\n",
       "      <td>30.952800</td>\n",
       "      <td>39916.359400</td>\n",
       "      <td>1.194200</td>\n",
       "      <td>0.148000</td>\n",
       "    </tr>\n",
       "    <tr>\n",
       "      <th>std</th>\n",
       "      <td>0.500049</td>\n",
       "      <td>8.440807</td>\n",
       "      <td>9900.082063</td>\n",
       "      <td>1.091387</td>\n",
       "      <td>0.463183</td>\n",
       "    </tr>\n",
       "    <tr>\n",
       "      <th>min</th>\n",
       "      <td>0.000000</td>\n",
       "      <td>18.000000</td>\n",
       "      <td>5300.000000</td>\n",
       "      <td>0.000000</td>\n",
       "      <td>0.000000</td>\n",
       "    </tr>\n",
       "    <tr>\n",
       "      <th>25%</th>\n",
       "      <td>0.000000</td>\n",
       "      <td>24.000000</td>\n",
       "      <td>33300.000000</td>\n",
       "      <td>0.000000</td>\n",
       "      <td>0.000000</td>\n",
       "    </tr>\n",
       "    <tr>\n",
       "      <th>50%</th>\n",
       "      <td>0.000000</td>\n",
       "      <td>30.000000</td>\n",
       "      <td>40200.000000</td>\n",
       "      <td>1.000000</td>\n",
       "      <td>0.000000</td>\n",
       "    </tr>\n",
       "    <tr>\n",
       "      <th>75%</th>\n",
       "      <td>1.000000</td>\n",
       "      <td>37.000000</td>\n",
       "      <td>46600.000000</td>\n",
       "      <td>2.000000</td>\n",
       "      <td>0.000000</td>\n",
       "    </tr>\n",
       "    <tr>\n",
       "      <th>max</th>\n",
       "      <td>1.000000</td>\n",
       "      <td>65.000000</td>\n",
       "      <td>79000.000000</td>\n",
       "      <td>6.000000</td>\n",
       "      <td>5.000000</td>\n",
       "    </tr>\n",
       "  </tbody>\n",
       "</table>\n",
       "</div>"
      ],
      "text/plain": [
       "            gender          age        salary  family_members  \\\n",
       "count  5000.000000  5000.000000   5000.000000     5000.000000   \n",
       "mean      0.499000    30.952800  39916.359400        1.194200   \n",
       "std       0.500049     8.440807   9900.082063        1.091387   \n",
       "min       0.000000    18.000000   5300.000000        0.000000   \n",
       "25%       0.000000    24.000000  33300.000000        0.000000   \n",
       "50%       0.000000    30.000000  40200.000000        1.000000   \n",
       "75%       1.000000    37.000000  46600.000000        2.000000   \n",
       "max       1.000000    65.000000  79000.000000        6.000000   \n",
       "\n",
       "       insurance_benefits  \n",
       "count         5000.000000  \n",
       "mean             0.148000  \n",
       "std              0.463183  \n",
       "min              0.000000  \n",
       "25%              0.000000  \n",
       "50%              0.000000  \n",
       "75%              0.000000  \n",
       "max              5.000000  "
      ]
     },
     "execution_count": 8,
     "metadata": {},
     "output_type": "execute_result"
    }
   ],
   "source": [
    "# Display the descriptive statistics of the dataset\n",
    "df.describe()"
   ]
  },
  {
   "cell_type": "code",
   "execution_count": 9,
   "metadata": {},
   "outputs": [
    {
     "data": {
      "text/plain": [
       "153"
      ]
     },
     "execution_count": 9,
     "metadata": {},
     "output_type": "execute_result"
    }
   ],
   "source": [
    "# Display the number of duplicates in the dataset\n",
    "df.duplicated().sum()"
   ]
  },
  {
   "cell_type": "code",
   "execution_count": 10,
   "metadata": {},
   "outputs": [
    {
     "data": {
      "text/plain": [
       "gender                0\n",
       "age                   0\n",
       "salary                0\n",
       "family_members        0\n",
       "insurance_benefits    0\n",
       "dtype: int64"
      ]
     },
     "execution_count": 10,
     "metadata": {},
     "output_type": "execute_result"
    }
   ],
   "source": [
    "# Display the number of missing values in the dataset\n",
    "df.isnull().isna().sum()"
   ]
  },
  {
   "cell_type": "markdown",
   "metadata": {},
   "source": [
    "There are 153 duplicates found in 'df' dataset, which I kept it as it is, as dropping then were resulting into NaNs when running codes to calculate distances using different metrics."
   ]
  },
  {
   "cell_type": "markdown",
   "metadata": {},
   "source": [
    "## EDA"
   ]
  },
  {
   "cell_type": "markdown",
   "metadata": {},
   "source": [
    "Let's quickly check whether there are certain groups of customers by looking at the pair plot."
   ]
  },
  {
   "cell_type": "code",
   "execution_count": 11,
   "metadata": {},
   "outputs": [
    {
     "data": {
      "image/png": "[encoded data removed]",
      "text/plain": [
       "<Figure size 1200x1200 with 30 Axes>"
      ]
     },
     "metadata": {},
     "output_type": "display_data"
    }
   ],
   "source": [
    "# Create a pairwise plot of the DataFrame's numeric features using histograms instead of scatterplots\n",
    "g = sns.pairplot(df, kind='hist')\n",
    "g.fig.set_size_inches(12, 12)"
   ]
  },
  {
   "cell_type": "markdown",
   "metadata": {},
   "source": [
    "Ok, it is a bit difficult to spot obvious groups (clusters) as it is difficult to combine several variables simultaneously (to analyze multivariate distributions). That's where LA and ML can be quite handy."
   ]
  },
  {
   "cell_type": "markdown",
   "metadata": {},
   "source": [
    "# Task 1. Similar Customers"
   ]
  },
  {
   "cell_type": "markdown",
   "metadata": {},
   "source": [
    "In the language of ML, it is necessary to develop a procedure that returns k nearest neighbors (objects) for a given object based on the distance between the objects.\n",
    "\n",
    "You may want to review the following lessons (chapter -> lesson)\n",
    "- Distance Between Vectors -> Euclidean Distance\n",
    "- Distance Between Vectors -> Manhattan Distance\n",
    "\n",
    "To solve the task, we can try different distance metrics."
   ]
  },
  {
   "cell_type": "markdown",
   "metadata": {},
   "source": [
    "Write a function that returns k nearest neighbors for an $n^{th}$ object based on a specified distance metric. The number of received insurance benefits should not be taken into account for this task. \n",
    "\n",
    "You can use a ready implementation of the kNN algorithm from scikit-learn (check [the link](https://scikit-learn.org/stable/modules/generated/sklearn.neighbors.NearestNeighbors.html#sklearn.neighbors.NearestNeighbors)) or use your own.\n",
    "\n",
    "Test it for four combination of two cases\n",
    "- Scaling\n",
    "  - the data is not scaled\n",
    "  - the data is scaled with the [MaxAbsScaler](https://scikit-learn.org/stable/modules/generated/sklearn.preprocessing.MaxAbsScaler.html) scaler\n",
    "- Distance Metrics\n",
    "  - Euclidean\n",
    "  - Manhattan\n",
    "\n",
    "Answer these questions:\n",
    "- Does the data being not scaled affect the kNN algorithm? If so, how does that appear?\n",
    "- How similar are the results using the Manhattan distance metric (regardless of the scaling)?"
   ]
  },
  {
   "cell_type": "code",
   "execution_count": 12,
   "metadata": {},
   "outputs": [],
   "source": [
    "# Define the list of feature (independent variable) column names to be used in modeling or analysis\n",
    "feature_names = ['gender', 'age', 'salary', 'family_members']"
   ]
  },
  {
   "cell_type": "code",
   "execution_count": 13,
   "metadata": {},
   "outputs": [],
   "source": [
    "def get_knn(df, n, k, metric):\n",
    "    \n",
    "    \"\"\"\n",
    "    Returns k nearest neighbors\n",
    "\n",
    "    :param df: pandas DataFrame used to find similar objects within\n",
    "    :param n: object no for which the nearest neighbours are looked for\n",
    "    :param k: the number of the nearest neighbours to return\n",
    "    :param metric: name of distance metric\n",
    "    \"\"\"\n",
    "\n",
    "    # Initialize the NearestNeighbors model with given metric and number of neighbors\n",
    "    nbrs = NearestNeighbors(\n",
    "        n_neighbors=k, \n",
    "        algorithm='auto', \n",
    "        leaf_size=30, \n",
    "        metric=metric\n",
    "        )\n",
    "    \n",
    "    # Fit the model on the selected feature columns\n",
    "    nbrs.fit(df[feature_names]) \n",
    "    \n",
    "    # Find distances and indices of k nearest neighbors to the object at index n\n",
    "    nbrs_distances, nbrs_indices = nbrs.kneighbors(\n",
    "        [df.iloc[n][feature_names]],\n",
    "        k, \n",
    "        return_distance=True\n",
    "        )\n",
    "    \n",
    "    # Build the result DataFrame by combining the neighbors and their distances\n",
    "    df_res = pd.concat([\n",
    "        df.iloc[nbrs_indices[0]], \n",
    "        pd.DataFrame(nbrs_distances.T, \n",
    "                     index=nbrs_indices[0], \n",
    "                     columns=['distance'])\n",
    "        ], axis=1)\n",
    "    \n",
    "    return df_res"
   ]
  },
  {
   "cell_type": "markdown",
   "metadata": {},
   "source": [
    "Scaling the data."
   ]
  },
  {
   "cell_type": "code",
   "execution_count": 14,
   "metadata": {},
   "outputs": [],
   "source": [
    "# Initialize and fit a MaxAbsScaler on the selected feature columns.\n",
    "transformer_mas = sklearn.preprocessing.MaxAbsScaler().fit(df[feature_names].to_numpy())\n",
    "\n",
    "# Create a copy of the original DataFrame to store the scaled features\n",
    "df_scaled = df.copy()\n",
    "\n",
    "# Apply the scaling transformation to the selected features and assign them back to the copied DataFrame\n",
    "df_scaled.loc[:, feature_names] = transformer_mas.transform(df[feature_names].to_numpy())"
   ]
  },
  {
   "cell_type": "code",
   "execution_count": 15,
   "metadata": {},
   "outputs": [
    {
     "data": {
      "text/html": [
       "<div>\n",
       "<style scoped>\n",
       "    .dataframe tbody tr th:only-of-type {\n",
       "        vertical-align: middle;\n",
       "    }\n",
       "\n",
       "    .dataframe tbody tr th {\n",
       "        vertical-align: top;\n",
       "    }\n",
       "\n",
       "    .dataframe thead th {\n",
       "        text-align: right;\n",
       "    }\n",
       "</style>\n",
       "<table border=\"1\" class=\"dataframe\">\n",
       "  <thead>\n",
       "    <tr style=\"text-align: right;\">\n",
       "      <th></th>\n",
       "      <th>gender</th>\n",
       "      <th>age</th>\n",
       "      <th>salary</th>\n",
       "      <th>family_members</th>\n",
       "      <th>insurance_benefits</th>\n",
       "    </tr>\n",
       "  </thead>\n",
       "  <tbody>\n",
       "    <tr>\n",
       "      <th>3457</th>\n",
       "      <td>0</td>\n",
       "      <td>0.446154</td>\n",
       "      <td>0.427848</td>\n",
       "      <td>0.000000</td>\n",
       "      <td>0</td>\n",
       "    </tr>\n",
       "    <tr>\n",
       "      <th>2938</th>\n",
       "      <td>0</td>\n",
       "      <td>0.369231</td>\n",
       "      <td>0.453165</td>\n",
       "      <td>0.333333</td>\n",
       "      <td>0</td>\n",
       "    </tr>\n",
       "    <tr>\n",
       "      <th>34</th>\n",
       "      <td>0</td>\n",
       "      <td>0.292308</td>\n",
       "      <td>0.820253</td>\n",
       "      <td>0.333333</td>\n",
       "      <td>0</td>\n",
       "    </tr>\n",
       "    <tr>\n",
       "      <th>1531</th>\n",
       "      <td>0</td>\n",
       "      <td>0.584615</td>\n",
       "      <td>0.724051</td>\n",
       "      <td>0.333333</td>\n",
       "      <td>0</td>\n",
       "    </tr>\n",
       "    <tr>\n",
       "      <th>3673</th>\n",
       "      <td>0</td>\n",
       "      <td>0.523077</td>\n",
       "      <td>0.178481</td>\n",
       "      <td>0.166667</td>\n",
       "      <td>0</td>\n",
       "    </tr>\n",
       "  </tbody>\n",
       "</table>\n",
       "</div>"
      ],
      "text/plain": [
       "      gender       age    salary  family_members  insurance_benefits\n",
       "3457       0  0.446154  0.427848        0.000000                   0\n",
       "2938       0  0.369231  0.453165        0.333333                   0\n",
       "34         0  0.292308  0.820253        0.333333                   0\n",
       "1531       0  0.584615  0.724051        0.333333                   0\n",
       "3673       0  0.523077  0.178481        0.166667                   0"
      ]
     },
     "execution_count": 15,
     "metadata": {},
     "output_type": "execute_result"
    }
   ],
   "source": [
    "# Display a random sample of 5 rows from the scaled DataFrame to inspect the transformed data\n",
    "df_scaled.sample(5)"
   ]
  },
  {
   "cell_type": "markdown",
   "metadata": {},
   "source": [
    "Now, let's get similar records for a given one for every combination"
   ]
  },
  {
   "cell_type": "code",
   "execution_count": 16,
   "metadata": {},
   "outputs": [],
   "source": [
    "# Index of the target object for which neighbors are searched\n",
    "n = 0\n",
    "\n",
    "# Number of nearest neighbors to find\n",
    "k = 5"
   ]
  },
  {
   "cell_type": "code",
   "execution_count": 17,
   "metadata": {},
   "outputs": [],
   "source": [
    "# unscaled data\n",
    "\n",
    "# Find k nearest neighbors of the object at index n using unscaled data with Euclidean distance\n",
    "euclidean_unscaled = get_knn(df, n, k, metric='euclidean')\n",
    "\n",
    "# Find k nearest neighbors of the object at index n using unscaled data with Manhattan distance\n",
    "manhattan_unscaled = get_knn(df, n, k, metric='manhattan')"
   ]
  },
  {
   "cell_type": "code",
   "execution_count": 18,
   "metadata": {},
   "outputs": [],
   "source": [
    "# scaled data\n",
    "\n",
    "# Find k nearest neighbors of the object at index n using scaled data with Euclidean distance\n",
    "euclidean_scaled = get_knn(df_scaled, n, k, metric='euclidean')\n",
    "\n",
    "# Find k nearest neighbors of the object at index n using scaled data with Manhattan distance\n",
    "manhattan_scaled = get_knn(df_scaled, n, k, metric='manhattan')"
   ]
  },
  {
   "cell_type": "code",
   "execution_count": 19,
   "metadata": {},
   "outputs": [
    {
     "data": {
      "text/plain": [
       "'Euclidean (UnScaled):'"
      ]
     },
     "metadata": {},
     "output_type": "display_data"
    },
    {
     "data": {
      "text/html": [
       "<div>\n",
       "<style scoped>\n",
       "    .dataframe tbody tr th:only-of-type {\n",
       "        vertical-align: middle;\n",
       "    }\n",
       "\n",
       "    .dataframe tbody tr th {\n",
       "        vertical-align: top;\n",
       "    }\n",
       "\n",
       "    .dataframe thead th {\n",
       "        text-align: right;\n",
       "    }\n",
       "</style>\n",
       "<table border=\"1\" class=\"dataframe\">\n",
       "  <thead>\n",
       "    <tr style=\"text-align: right;\">\n",
       "      <th></th>\n",
       "      <th>gender</th>\n",
       "      <th>age</th>\n",
       "      <th>salary</th>\n",
       "      <th>family_members</th>\n",
       "      <th>insurance_benefits</th>\n",
       "      <th>distance</th>\n",
       "    </tr>\n",
       "  </thead>\n",
       "  <tbody>\n",
       "    <tr>\n",
       "      <th>0</th>\n",
       "      <td>1</td>\n",
       "      <td>41</td>\n",
       "      <td>49600</td>\n",
       "      <td>1</td>\n",
       "      <td>0</td>\n",
       "      <td>0.000000</td>\n",
       "    </tr>\n",
       "    <tr>\n",
       "      <th>2022</th>\n",
       "      <td>1</td>\n",
       "      <td>41</td>\n",
       "      <td>49600</td>\n",
       "      <td>0</td>\n",
       "      <td>0</td>\n",
       "      <td>1.000000</td>\n",
       "    </tr>\n",
       "    <tr>\n",
       "      <th>1225</th>\n",
       "      <td>0</td>\n",
       "      <td>42</td>\n",
       "      <td>49600</td>\n",
       "      <td>0</td>\n",
       "      <td>1</td>\n",
       "      <td>1.732051</td>\n",
       "    </tr>\n",
       "    <tr>\n",
       "      <th>4031</th>\n",
       "      <td>1</td>\n",
       "      <td>44</td>\n",
       "      <td>49600</td>\n",
       "      <td>2</td>\n",
       "      <td>1</td>\n",
       "      <td>3.162278</td>\n",
       "    </tr>\n",
       "    <tr>\n",
       "      <th>3424</th>\n",
       "      <td>0</td>\n",
       "      <td>38</td>\n",
       "      <td>49600</td>\n",
       "      <td>0</td>\n",
       "      <td>0</td>\n",
       "      <td>3.316625</td>\n",
       "    </tr>\n",
       "  </tbody>\n",
       "</table>\n",
       "</div>"
      ],
      "text/plain": [
       "      gender  age  salary  family_members  insurance_benefits  distance\n",
       "0          1   41   49600               1                   0  0.000000\n",
       "2022       1   41   49600               0                   0  1.000000\n",
       "1225       0   42   49600               0                   1  1.732051\n",
       "4031       1   44   49600               2                   1  3.162278\n",
       "3424       0   38   49600               0                   0  3.316625"
      ]
     },
     "metadata": {},
     "output_type": "display_data"
    },
    {
     "data": {
      "text/plain": [
       "'Manhattan (UnScaled):'"
      ]
     },
     "metadata": {},
     "output_type": "display_data"
    },
    {
     "data": {
      "text/html": [
       "<div>\n",
       "<style scoped>\n",
       "    .dataframe tbody tr th:only-of-type {\n",
       "        vertical-align: middle;\n",
       "    }\n",
       "\n",
       "    .dataframe tbody tr th {\n",
       "        vertical-align: top;\n",
       "    }\n",
       "\n",
       "    .dataframe thead th {\n",
       "        text-align: right;\n",
       "    }\n",
       "</style>\n",
       "<table border=\"1\" class=\"dataframe\">\n",
       "  <thead>\n",
       "    <tr style=\"text-align: right;\">\n",
       "      <th></th>\n",
       "      <th>gender</th>\n",
       "      <th>age</th>\n",
       "      <th>salary</th>\n",
       "      <th>family_members</th>\n",
       "      <th>insurance_benefits</th>\n",
       "      <th>distance</th>\n",
       "    </tr>\n",
       "  </thead>\n",
       "  <tbody>\n",
       "    <tr>\n",
       "      <th>0</th>\n",
       "      <td>1</td>\n",
       "      <td>41</td>\n",
       "      <td>49600</td>\n",
       "      <td>1</td>\n",
       "      <td>0</td>\n",
       "      <td>0.0</td>\n",
       "    </tr>\n",
       "    <tr>\n",
       "      <th>2022</th>\n",
       "      <td>1</td>\n",
       "      <td>41</td>\n",
       "      <td>49600</td>\n",
       "      <td>0</td>\n",
       "      <td>0</td>\n",
       "      <td>1.0</td>\n",
       "    </tr>\n",
       "    <tr>\n",
       "      <th>1225</th>\n",
       "      <td>0</td>\n",
       "      <td>42</td>\n",
       "      <td>49600</td>\n",
       "      <td>0</td>\n",
       "      <td>1</td>\n",
       "      <td>3.0</td>\n",
       "    </tr>\n",
       "    <tr>\n",
       "      <th>4031</th>\n",
       "      <td>1</td>\n",
       "      <td>44</td>\n",
       "      <td>49600</td>\n",
       "      <td>2</td>\n",
       "      <td>1</td>\n",
       "      <td>4.0</td>\n",
       "    </tr>\n",
       "    <tr>\n",
       "      <th>815</th>\n",
       "      <td>1</td>\n",
       "      <td>37</td>\n",
       "      <td>49600</td>\n",
       "      <td>2</td>\n",
       "      <td>0</td>\n",
       "      <td>5.0</td>\n",
       "    </tr>\n",
       "  </tbody>\n",
       "</table>\n",
       "</div>"
      ],
      "text/plain": [
       "      gender  age  salary  family_members  insurance_benefits  distance\n",
       "0          1   41   49600               1                   0       0.0\n",
       "2022       1   41   49600               0                   0       1.0\n",
       "1225       0   42   49600               0                   1       3.0\n",
       "4031       1   44   49600               2                   1       4.0\n",
       "815        1   37   49600               2                   0       5.0"
      ]
     },
     "metadata": {},
     "output_type": "display_data"
    },
    {
     "data": {
      "text/plain": [
       "'Euclidean (Scaled):'"
      ]
     },
     "metadata": {},
     "output_type": "display_data"
    },
    {
     "data": {
      "text/html": [
       "<div>\n",
       "<style scoped>\n",
       "    .dataframe tbody tr th:only-of-type {\n",
       "        vertical-align: middle;\n",
       "    }\n",
       "\n",
       "    .dataframe tbody tr th {\n",
       "        vertical-align: top;\n",
       "    }\n",
       "\n",
       "    .dataframe thead th {\n",
       "        text-align: right;\n",
       "    }\n",
       "</style>\n",
       "<table border=\"1\" class=\"dataframe\">\n",
       "  <thead>\n",
       "    <tr style=\"text-align: right;\">\n",
       "      <th></th>\n",
       "      <th>gender</th>\n",
       "      <th>age</th>\n",
       "      <th>salary</th>\n",
       "      <th>family_members</th>\n",
       "      <th>insurance_benefits</th>\n",
       "      <th>distance</th>\n",
       "    </tr>\n",
       "  </thead>\n",
       "  <tbody>\n",
       "    <tr>\n",
       "      <th>0</th>\n",
       "      <td>1</td>\n",
       "      <td>0.630769</td>\n",
       "      <td>0.627848</td>\n",
       "      <td>0.166667</td>\n",
       "      <td>0</td>\n",
       "      <td>0.000000</td>\n",
       "    </tr>\n",
       "    <tr>\n",
       "      <th>2689</th>\n",
       "      <td>1</td>\n",
       "      <td>0.630769</td>\n",
       "      <td>0.634177</td>\n",
       "      <td>0.166667</td>\n",
       "      <td>0</td>\n",
       "      <td>0.006329</td>\n",
       "    </tr>\n",
       "    <tr>\n",
       "      <th>133</th>\n",
       "      <td>1</td>\n",
       "      <td>0.615385</td>\n",
       "      <td>0.636709</td>\n",
       "      <td>0.166667</td>\n",
       "      <td>0</td>\n",
       "      <td>0.017754</td>\n",
       "    </tr>\n",
       "    <tr>\n",
       "      <th>4869</th>\n",
       "      <td>1</td>\n",
       "      <td>0.646154</td>\n",
       "      <td>0.637975</td>\n",
       "      <td>0.166667</td>\n",
       "      <td>1</td>\n",
       "      <td>0.018418</td>\n",
       "    </tr>\n",
       "    <tr>\n",
       "      <th>3275</th>\n",
       "      <td>1</td>\n",
       "      <td>0.646154</td>\n",
       "      <td>0.651899</td>\n",
       "      <td>0.166667</td>\n",
       "      <td>1</td>\n",
       "      <td>0.028550</td>\n",
       "    </tr>\n",
       "  </tbody>\n",
       "</table>\n",
       "</div>"
      ],
      "text/plain": [
       "      gender       age    salary  family_members  insurance_benefits  distance\n",
       "0          1  0.630769  0.627848        0.166667                   0  0.000000\n",
       "2689       1  0.630769  0.634177        0.166667                   0  0.006329\n",
       "133        1  0.615385  0.636709        0.166667                   0  0.017754\n",
       "4869       1  0.646154  0.637975        0.166667                   1  0.018418\n",
       "3275       1  0.646154  0.651899        0.166667                   1  0.028550"
      ]
     },
     "metadata": {},
     "output_type": "display_data"
    },
    {
     "data": {
      "text/plain": [
       "'Manhattan (Scaled):'"
      ]
     },
     "metadata": {},
     "output_type": "display_data"
    },
    {
     "data": {
      "text/html": [
       "<div>\n",
       "<style scoped>\n",
       "    .dataframe tbody tr th:only-of-type {\n",
       "        vertical-align: middle;\n",
       "    }\n",
       "\n",
       "    .dataframe tbody tr th {\n",
       "        vertical-align: top;\n",
       "    }\n",
       "\n",
       "    .dataframe thead th {\n",
       "        text-align: right;\n",
       "    }\n",
       "</style>\n",
       "<table border=\"1\" class=\"dataframe\">\n",
       "  <thead>\n",
       "    <tr style=\"text-align: right;\">\n",
       "      <th></th>\n",
       "      <th>gender</th>\n",
       "      <th>age</th>\n",
       "      <th>salary</th>\n",
       "      <th>family_members</th>\n",
       "      <th>insurance_benefits</th>\n",
       "      <th>distance</th>\n",
       "    </tr>\n",
       "  </thead>\n",
       "  <tbody>\n",
       "    <tr>\n",
       "      <th>0</th>\n",
       "      <td>1</td>\n",
       "      <td>0.630769</td>\n",
       "      <td>0.627848</td>\n",
       "      <td>0.166667</td>\n",
       "      <td>0</td>\n",
       "      <td>0.000000</td>\n",
       "    </tr>\n",
       "    <tr>\n",
       "      <th>2689</th>\n",
       "      <td>1</td>\n",
       "      <td>0.630769</td>\n",
       "      <td>0.634177</td>\n",
       "      <td>0.166667</td>\n",
       "      <td>0</td>\n",
       "      <td>0.006329</td>\n",
       "    </tr>\n",
       "    <tr>\n",
       "      <th>133</th>\n",
       "      <td>1</td>\n",
       "      <td>0.615385</td>\n",
       "      <td>0.636709</td>\n",
       "      <td>0.166667</td>\n",
       "      <td>0</td>\n",
       "      <td>0.024245</td>\n",
       "    </tr>\n",
       "    <tr>\n",
       "      <th>4869</th>\n",
       "      <td>1</td>\n",
       "      <td>0.646154</td>\n",
       "      <td>0.637975</td>\n",
       "      <td>0.166667</td>\n",
       "      <td>1</td>\n",
       "      <td>0.025511</td>\n",
       "    </tr>\n",
       "    <tr>\n",
       "      <th>2103</th>\n",
       "      <td>1</td>\n",
       "      <td>0.630769</td>\n",
       "      <td>0.596203</td>\n",
       "      <td>0.166667</td>\n",
       "      <td>0</td>\n",
       "      <td>0.031646</td>\n",
       "    </tr>\n",
       "  </tbody>\n",
       "</table>\n",
       "</div>"
      ],
      "text/plain": [
       "      gender       age    salary  family_members  insurance_benefits  distance\n",
       "0          1  0.630769  0.627848        0.166667                   0  0.000000\n",
       "2689       1  0.630769  0.634177        0.166667                   0  0.006329\n",
       "133        1  0.615385  0.636709        0.166667                   0  0.024245\n",
       "4869       1  0.646154  0.637975        0.166667                   1  0.025511\n",
       "2103       1  0.630769  0.596203        0.166667                   0  0.031646"
      ]
     },
     "metadata": {},
     "output_type": "display_data"
    }
   ],
   "source": [
    "# Display the results for all four cases to compare the effects of scaling and metric choice\n",
    "display('Euclidean (UnScaled):', euclidean_unscaled)\n",
    "display('Manhattan (UnScaled):', manhattan_unscaled)\n",
    "display('Euclidean (Scaled):', euclidean_scaled)\n",
    "display('Manhattan (Scaled):', manhattan_scaled)"
   ]
  },
  {
   "cell_type": "markdown",
   "metadata": {},
   "source": [
    "Answers to the questions"
   ]
  },
  {
   "cell_type": "markdown",
   "metadata": {},
   "source": [
    "**Does the data being not scaled affect the kNN algorithm? If so, how does that appear?** \n",
    "\n",
    "Yes, the data being not scaled does affect the kNN algorithm. In unscaled data, featues (columns) like income; will dominate the distance calcuations while features like gender and insurance benefits will contribute much less. "
   ]
  },
  {
   "cell_type": "markdown",
   "metadata": {},
   "source": [
    "**How similar are the results using the Manhattan distance metric (regardless of the scaling)?** \n",
    "\n",
    "Even though Manhattan distance treats each feature independently and sums the absolute difference, still the results using the Manhattan distance metric were not consistent. Out of 5 nearest neighbors, none of those are similar among Manhattan distance metric. Also, Manhattan distance is less sensitive to outliers compa"
   ]
  },
  {
   "cell_type": "markdown",
   "metadata": {},
   "source": [
    "# Task 2. Is Customer Likely to Receive Insurance Benefit?"
   ]
  },
  {
   "cell_type": "markdown",
   "metadata": {},
   "source": [
    "In terms of machine learning we can look at this like a binary classification task."
   ]
  },
  {
   "cell_type": "markdown",
   "metadata": {},
   "source": [
    "With `insurance_benefits` being more than zero as the target, evaluate whether the kNN classification approach can do better than a dummy model.\n",
    "\n",
    "Instructions:\n",
    "- Build a KNN-based classifier and measure its quality with the F1 metric for k=1..10 for both the original data and the scaled one. That'd be interesting to see how k may influence the evaluation metric, and whether scaling the data makes any difference. You can use a ready implemention of the kNN classification algorithm from scikit-learn (check [the link](https://scikit-learn.org/stable/modules/generated/sklearn.neighbors.KNeighborsClassifier.html)) or use your own.\n",
    "- Build the dummy model which is just random for this case. It should return \"1\" with some probability. Let's test the model with four probability values: 0, the probability of paying any insurance benefit, 0.5, 1.\n",
    "\n",
    "The probability of paying any insurance benefit can be defined as\n",
    "\n",
    "$$\n",
    "P\\{\\text{insurance benefit received}\\}=\\frac{\\text{number of clients received any insurance benefit}}{\\text{total number of clients}}.\n",
    "$$\n",
    "\n",
    "Split the whole data in the 70:30 proportion for the training/testing parts."
   ]
  },
  {
   "cell_type": "code",
   "execution_count": 20,
   "metadata": {},
   "outputs": [],
   "source": [
    "# Create a new binary target column 'insurance_benefits_received' to the 'df' DataFrame. \n",
    "df['insurance_benefits_received'] = (df['insurance_benefits'] > 0).astype(int)"
   ]
  },
  {
   "cell_type": "code",
   "execution_count": 21,
   "metadata": {},
   "outputs": [],
   "source": [
    "# Add a new binary target column 'insurance_benefits_received' to the scaled DataFrame.\n",
    "df_scaled['insurance_benefits_received'] = (df_scaled['insurance_benefits'] > 0).astype(int)"
   ]
  },
  {
   "cell_type": "code",
   "execution_count": 22,
   "metadata": {},
   "outputs": [
    {
     "data": {
      "text/plain": [
       "insurance_benefits_received\n",
       "0    0.8872\n",
       "1    0.1128\n",
       "Name: proportion, dtype: float64"
      ]
     },
     "execution_count": 22,
     "metadata": {},
     "output_type": "execute_result"
    }
   ],
   "source": [
    "# Check for the class imbalance in the 'insurance_benefits_received' target column\n",
    "df['insurance_benefits_received'].value_counts(normalize=True)"
   ]
  },
  {
   "cell_type": "code",
   "execution_count": 23,
   "metadata": {},
   "outputs": [],
   "source": [
    "# Evaluate classifier by printing F1 score and normalized confusion matrix\n",
    "def eval_classifier(y_true, y_pred):\n",
    "    \n",
    "    f1_score = sklearn.metrics.f1_score(y_true, y_pred)\n",
    "    print(f'F1: {f1_score:.2f}')\n",
    "    \n",
    "# if you have an issue with the following line, restart the kernel and run the notebook again\n",
    "    cm = sklearn.metrics.confusion_matrix(y_true, y_pred, normalize='all')\n",
    "    print('Confusion Matrix')\n",
    "    print(cm)"
   ]
  },
  {
   "cell_type": "code",
   "execution_count": 24,
   "metadata": {},
   "outputs": [],
   "source": [
    "# Generate random binary predictions simulating a random model with probability P of predicting 1\n",
    "def rnd_model_predict(P, size, seed=42):\n",
    "\n",
    "    rng = np.random.default_rng(seed=seed)\n",
    "    return rng.binomial(n=1, p=P, size=size)"
   ]
  },
  {
   "cell_type": "code",
   "execution_count": 25,
   "metadata": {},
   "outputs": [
    {
     "name": "stdout",
     "output_type": "stream",
     "text": [
      "The probability: 0.00\n",
      "F1: 0.00\n",
      "Confusion Matrix\n",
      "[[0.8872 0.    ]\n",
      " [0.1128 0.    ]]\n",
      "\n",
      "The probability: 0.11\n",
      "F1: 0.12\n",
      "Confusion Matrix\n",
      "[[0.7914 0.0958]\n",
      " [0.0994 0.0134]]\n",
      "\n",
      "The probability: 0.50\n",
      "F1: 0.20\n",
      "Confusion Matrix\n",
      "[[0.456  0.4312]\n",
      " [0.053  0.0598]]\n",
      "\n",
      "The probability: 1.00\n",
      "F1: 0.20\n",
      "Confusion Matrix\n",
      "[[0.     0.8872]\n",
      " [0.     0.1128]]\n",
      "\n"
     ]
    }
   ],
   "source": [
    "# Evaluate random model predictions with different probabilities P\n",
    "for P in [0, df['insurance_benefits_received'].sum() / len(df), 0.5, 1]:\n",
    " \n",
    "    print(f'The probability: {P:.2f}')\n",
    "    y_pred_rnd = rnd_model_predict(P, size=len(df), seed=42)\n",
    "        \n",
    "    eval_classifier(df['insurance_benefits_received'], y_pred_rnd)\n",
    "    \n",
    "    print()"
   ]
  },
  {
   "cell_type": "code",
   "execution_count": 26,
   "metadata": {},
   "outputs": [],
   "source": [
    "# Split the dataset into training and testing sets\n",
    "X_train, X_test, y_train, y_test = train_test_split(\n",
    "    \n",
    "    df[feature_names], \n",
    "    df['insurance_benefits_received'], \n",
    "    test_size=0.3, \n",
    "    random_state=57\n",
    "    )\n"
   ]
  },
  {
   "cell_type": "code",
   "execution_count": 27,
   "metadata": {},
   "outputs": [
    {
     "name": "stdout",
     "output_type": "stream",
     "text": [
      "F1: 0.64\n",
      "Confusion Matrix\n",
      "[[0.87866667 0.018     ]\n",
      " [0.046      0.05733333]]\n",
      "F1: 0.38\n",
      "Confusion Matrix\n",
      "[[0.89333333 0.00333333]\n",
      " [0.078      0.02533333]]\n",
      "F1: 0.44\n",
      "Confusion Matrix\n",
      "[[0.884      0.01266667]\n",
      " [0.07066667 0.03266667]]\n",
      "F1: 0.26\n",
      "Confusion Matrix\n",
      "[[0.89533333 0.00133333]\n",
      " [0.088      0.01533333]]\n",
      "F1: 0.27\n",
      "Confusion Matrix\n",
      "[[0.894      0.00266667]\n",
      " [0.08666667 0.01666667]]\n",
      "F1: 0.09\n",
      "Confusion Matrix\n",
      "[[0.89666667 0.        ]\n",
      " [0.09866667 0.00466667]]\n",
      "F1: 0.08\n",
      "Confusion Matrix\n",
      "[[0.89333333 0.00333333]\n",
      " [0.09866667 0.00466667]]\n",
      "F1: 0.03\n",
      "Confusion Matrix\n",
      "[[0.89666667 0.        ]\n",
      " [0.102      0.00133333]]\n",
      "F1: 0.03\n",
      "Confusion Matrix\n",
      "[[8.96000000e-01 6.66666667e-04]\n",
      " [1.02000000e-01 1.33333333e-03]]\n"
     ]
    }
   ],
   "source": [
    "# Train and evaluate KNN classifiers with k from 1 to 9\n",
    "for n in range(1,10):\n",
    "    \n",
    "    neigh = KNeighborsClassifier(n_neighbors=n, weights='uniform', algorithm='auto', \n",
    "                                                 leaf_size=30, p=2, metric='minkowski', metric_params=None, n_jobs=None)\n",
    "    neigh.fit(X_train, y_train)\n",
    "\n",
    "\n",
    "    y_test_pred = neigh.predict(X_test)\n",
    "    eval_classifier(y_test, y_test_pred)"
   ]
  },
  {
   "cell_type": "markdown",
   "metadata": {},
   "source": [
    "Without feature scaling, the F1 score are quite low, ranging from 0.03 to 0.64. As the number of neighbors increases, performance significantly declines. The confusion matrices show a strong bias toward predicting the majority class of ones not recieving insurance benefits. "
   ]
  },
  {
   "cell_type": "code",
   "execution_count": 28,
   "metadata": {},
   "outputs": [],
   "source": [
    "# Scale features using MaxAbsScaler: fit on training data and transform both train and test sets\n",
    "scaler = MaxAbsScaler()\n",
    "X_train_scaled = scaler.fit_transform(X_train)  # Fit only on training data\n",
    "X_test_scaled = scaler.transform(X_test)"
   ]
  },
  {
   "cell_type": "code",
   "execution_count": 29,
   "metadata": {},
   "outputs": [
    {
     "name": "stdout",
     "output_type": "stream",
     "text": [
      "F1: 0.96\n",
      "Confusion Matrix\n",
      "[[0.89133333 0.00533333]\n",
      " [0.00333333 0.1       ]]\n",
      "F1: 0.95\n",
      "Confusion Matrix\n",
      "[[0.89533333 0.00133333]\n",
      " [0.00933333 0.094     ]]\n",
      "F1: 0.95\n",
      "Confusion Matrix\n",
      "[[0.89333333 0.00333333]\n",
      " [0.00666667 0.09666667]]\n",
      "F1: 0.94\n",
      "Confusion Matrix\n",
      "[[8.96000000e-01 6.66666667e-04]\n",
      " [1.20000000e-02 9.13333333e-02]]\n",
      "F1: 0.94\n",
      "Confusion Matrix\n",
      "[[0.894      0.00266667]\n",
      " [0.00933333 0.094     ]]\n",
      "F1: 0.93\n",
      "Confusion Matrix\n",
      "[[0.89533333 0.00133333]\n",
      " [0.01266667 0.09066667]]\n",
      "F1: 0.93\n",
      "Confusion Matrix\n",
      "[[0.894      0.00266667]\n",
      " [0.01066667 0.09266667]]\n",
      "F1: 0.93\n",
      "Confusion Matrix\n",
      "[[0.89533333 0.00133333]\n",
      " [0.012      0.09133333]]\n",
      "F1: 0.93\n",
      "Confusion Matrix\n",
      "[[0.894      0.00266667]\n",
      " [0.01066667 0.09266667]]\n"
     ]
    }
   ],
   "source": [
    "# Train and evaluate KNN with k=1 to 9 on scaled data\n",
    "for n in range(1,10):\n",
    "    \n",
    "    neigh = KNeighborsClassifier(\n",
    "        n_neighbors=n,\n",
    "        weights='uniform', \n",
    "        algorithm='auto', \n",
    "        leaf_size=30, \n",
    "        p=2, \n",
    "        metric='minkowski', \n",
    "        metric_params=None, \n",
    "        n_jobs=None\n",
    "        )\n",
    "    \n",
    "    neigh.fit(X_train_scaled, y_train)\n",
    "    y_test_pred_scaled = neigh.predict(X_test_scaled)\n",
    "    eval_classifier(y_test, y_test_pred_scaled)"
   ]
  },
  {
   "cell_type": "markdown",
   "metadata": {},
   "source": [
    "With feature scaling, the F1 scores drastically improve, 0.93 to 0.96 compared to that of without feature scaling. The confusion matrices indicate better classification with more balanced predictions between classes. The model generalizes much better compared to the unscaled ones. "
   ]
  },
  {
   "cell_type": "markdown",
   "metadata": {},
   "source": [
    "# Task 3. Regression (with Linear Regression)"
   ]
  },
  {
   "cell_type": "markdown",
   "metadata": {},
   "source": [
    "With `insurance_benefits` as the target, evaluate what RMSE would be for a Linear Regression model."
   ]
  },
  {
   "cell_type": "markdown",
   "metadata": {},
   "source": [
    "Build your own implementation of LR. For that, recall how the linear regression task's solution is formulated in terms of LA. Check RMSE for both the original data and the scaled one. Can you see any difference in RMSE between these two cases?\n",
    "\n",
    "Let's denote\n",
    "- $X$ — feature matrix, each row is a case, each column is a feature, the first column consists of unities\n",
    "- $y$ — target (a vector)\n",
    "- $\\hat{y}$ — estimated tagret (a vector)\n",
    "- $w$ — weight vector\n",
    "\n",
    "The task of linear regression in the language of matrices can be formulated as\n",
    "\n",
    "$$\n",
    "y = Xw\n",
    "$$\n",
    "\n",
    "The training objective then is to find such $w$ that it would minimize the L2-distance (MSE) between $Xw$ and $y$:\n",
    "\n",
    "$$\n",
    "\\min_w d_2(Xw, y) \\quad \\text{or} \\quad \\min_w \\text{MSE}(Xw, y)\n",
    "$$\n",
    "\n",
    "It appears that there is analytical solution for the above:\n",
    "\n",
    "$$\n",
    "w = (X^T X)^{-1} X^T y\n",
    "$$\n",
    "\n",
    "The formula above can be used to find the weights $w$ and the latter can be used to calculate predicted values\n",
    "\n",
    "$$\n",
    "\\hat{y} = X_{val}w\n",
    "$$"
   ]
  },
  {
   "cell_type": "markdown",
   "metadata": {},
   "source": [
    "Split the whole data in the 70:30 proportion for the training/validation parts. Use the RMSE metric for the model evaluation."
   ]
  },
  {
   "cell_type": "code",
   "execution_count": 30,
   "metadata": {},
   "outputs": [],
   "source": [
    "# Simple linear regression model using the Normal Equation for fitting and prediction\n",
    "class MyLinearRegression:\n",
    "    \n",
    "    def __init__(self):\n",
    "        \n",
    "        self.weights = None\n",
    "    \n",
    "    def fit(self, X, y):\n",
    "        \n",
    "        # adding the unities\n",
    "        X2 = np.append(np.ones([len(X), 1]), X, axis=1)\n",
    "        self.weights = np.linalg.inv(X2.T.dot(X2)).dot(X2.T).dot(y)\n",
    "\n",
    "    def predict(self, X):\n",
    "        \n",
    "        # adding the unities\n",
    "        X2 = np.append(np.ones([len(X), 1]), X, axis=1)\n",
    "        y_pred = X2.dot(self.weights)\n",
    "        \n",
    "        return y_pred"
   ]
  },
  {
   "cell_type": "code",
   "execution_count": 31,
   "metadata": {},
   "outputs": [],
   "source": [
    "# Evaluate regression performance by printing RMSE and R2 scores\n",
    "def eval_regressor(y_true, y_pred):\n",
    "    \n",
    "    rmse = math.sqrt(sklearn.metrics.mean_squared_error(y_true, y_pred))\n",
    "    print(f'RMSE: {rmse:.2f}')\n",
    "    \n",
    "    r2_score = math.sqrt(sklearn.metrics.r2_score(y_true, y_pred))\n",
    "    print(f'R2: {r2_score:.2f}')    "
   ]
  },
  {
   "cell_type": "code",
   "execution_count": 32,
   "metadata": {},
   "outputs": [],
   "source": [
    "# Prepare features and target arrays, then split data into training and testing sets\n",
    "X = df[['age', 'gender', 'salary', 'family_members']].to_numpy()\n",
    "y = df['insurance_benefits'].to_numpy()\n",
    "\n",
    "X_train, X_test, y_train, y_test = train_test_split(\n",
    "    X, \n",
    "    y, \n",
    "    test_size=0.3, \n",
    "    random_state=12345\n",
    "    )\n"
   ]
  },
  {
   "cell_type": "code",
   "execution_count": 33,
   "metadata": {},
   "outputs": [
    {
     "name": "stdout",
     "output_type": "stream",
     "text": [
      "[-9.43538930e-01  3.57495491e-02  1.64272730e-02 -2.60745684e-07\n",
      " -1.16902138e-02]\n",
      "RMSE: 0.34\n",
      "R2: 0.66\n"
     ]
    }
   ],
   "source": [
    "# Create an instance of the linear regression model\n",
    "lr = MyLinearRegression()\n",
    "\n",
    "# Fit the model to the training data\n",
    "lr.fit(X_train, y_train)\n",
    "\n",
    "# Print the learned weights (coefficients)\n",
    "print(lr.weights)\n",
    "\n",
    "# Predict target values for the test set\n",
    "y_test_pred = lr.predict(X_test)\n",
    "\n",
    "# Evaluate and print regression metrics on test predictions\n",
    "eval_regressor(y_test, y_test_pred)"
   ]
  },
  {
   "cell_type": "code",
   "execution_count": 34,
   "metadata": {},
   "outputs": [],
   "source": [
    "# Initialize MaxAbsScaler\n",
    "scaler = MaxAbsScaler()\n",
    "\n",
    "# Fit scaler on training data and transform it\n",
    "X_train_scaled = scaler.fit_transform(X_train)\n",
    "\n",
    "# Transform test data using the same scaler\n",
    "X_test_scaled = scaler.transform(X_test)"
   ]
  },
  {
   "cell_type": "code",
   "execution_count": 35,
   "metadata": {},
   "outputs": [
    {
     "name": "stdout",
     "output_type": "stream",
     "text": [
      "[-0.94353893  2.32372069  0.01642727 -0.02059891 -0.07014128]\n",
      "RMSE: 0.34\n",
      "R2: 0.66\n"
     ]
    }
   ],
   "source": [
    "# Fit model on scaled training data\n",
    "lr.fit(X_train_scaled, y_train)\n",
    "\n",
    "# Print model weights after training\n",
    "print(lr.weights)\n",
    "\n",
    "# Predict on scaled test data\n",
    "y_test_pred_scaled = lr.predict(X_test_scaled)\n",
    "\n",
    " # Evaluate predictions with regression metrics\n",
    "eval_regressor(y_test, y_test_pred_scaled)"
   ]
  },
  {
   "cell_type": "markdown",
   "metadata": {},
   "source": [
    "The above results indicate that scaling did not affect the models's predictive performance, as RMSE and R2 remain the same. The model weights change because scaling effects the scale of the input features. Since linear regression adjusts for these transformations internally, the final predictions remains the same and so does the RMSE and R2 of both datasets. "
   ]
  },
  {
   "cell_type": "markdown",
   "metadata": {},
   "source": [
    "# Task 4. Obfuscating Data"
   ]
  },
  {
   "cell_type": "markdown",
   "metadata": {},
   "source": [
    "It best to obfuscate data by multiplying the numerical features (remember, they can be seen as the matrix $X$) by an invertible matrix $P$. \n",
    "\n",
    "$$\n",
    "X' = X \\times P\n",
    "$$\n",
    "\n",
    "Try to do that and check how the features' values will look like after the transformation. By the way, the invertible property is important here so make sure that $P$ is indeed invertible.\n",
    "\n",
    "You may want to review the 'Matrices and Matrix Operations -> Matrix Multiplication' lesson to recall the rule of matrix multiplication and its implementation with NumPy."
   ]
  },
  {
   "cell_type": "code",
   "execution_count": 36,
   "metadata": {},
   "outputs": [],
   "source": [
    "# Define list of personal info columns\n",
    "personal_info_column_list = ['gender', 'age', 'salary', 'family_members']\n",
    "\n",
    "# Create new DataFrame with selected columns\n",
    "df_pn = df[personal_info_column_list]"
   ]
  },
  {
   "cell_type": "code",
   "execution_count": 37,
   "metadata": {},
   "outputs": [
    {
     "data": {
      "text/html": [
       "<div>\n",
       "<style scoped>\n",
       "    .dataframe tbody tr th:only-of-type {\n",
       "        vertical-align: middle;\n",
       "    }\n",
       "\n",
       "    .dataframe tbody tr th {\n",
       "        vertical-align: top;\n",
       "    }\n",
       "\n",
       "    .dataframe thead th {\n",
       "        text-align: right;\n",
       "    }\n",
       "</style>\n",
       "<table border=\"1\" class=\"dataframe\">\n",
       "  <thead>\n",
       "    <tr style=\"text-align: right;\">\n",
       "      <th></th>\n",
       "      <th>gender</th>\n",
       "      <th>age</th>\n",
       "      <th>salary</th>\n",
       "      <th>family_members</th>\n",
       "    </tr>\n",
       "  </thead>\n",
       "  <tbody>\n",
       "    <tr>\n",
       "      <th>0</th>\n",
       "      <td>1</td>\n",
       "      <td>41</td>\n",
       "      <td>49600</td>\n",
       "      <td>1</td>\n",
       "    </tr>\n",
       "    <tr>\n",
       "      <th>1</th>\n",
       "      <td>0</td>\n",
       "      <td>46</td>\n",
       "      <td>38000</td>\n",
       "      <td>1</td>\n",
       "    </tr>\n",
       "    <tr>\n",
       "      <th>2</th>\n",
       "      <td>0</td>\n",
       "      <td>29</td>\n",
       "      <td>21000</td>\n",
       "      <td>0</td>\n",
       "    </tr>\n",
       "    <tr>\n",
       "      <th>3</th>\n",
       "      <td>0</td>\n",
       "      <td>21</td>\n",
       "      <td>41700</td>\n",
       "      <td>2</td>\n",
       "    </tr>\n",
       "    <tr>\n",
       "      <th>4</th>\n",
       "      <td>1</td>\n",
       "      <td>28</td>\n",
       "      <td>26100</td>\n",
       "      <td>0</td>\n",
       "    </tr>\n",
       "  </tbody>\n",
       "</table>\n",
       "</div>"
      ],
      "text/plain": [
       "   gender  age  salary  family_members\n",
       "0       1   41   49600               1\n",
       "1       0   46   38000               1\n",
       "2       0   29   21000               0\n",
       "3       0   21   41700               2\n",
       "4       1   28   26100               0"
      ]
     },
     "metadata": {},
     "output_type": "display_data"
    }
   ],
   "source": [
    "# Show the first few rows of the personal info DataFrame\n",
    "display(df_pn.head())"
   ]
  },
  {
   "cell_type": "code",
   "execution_count": 38,
   "metadata": {},
   "outputs": [
    {
     "data": {
      "text/plain": [
       "array([[    1,    41, 49600,     1],\n",
       "       [    0,    46, 38000,     1],\n",
       "       [    0,    29, 21000,     0],\n",
       "       ...,\n",
       "       [    0,    20, 33900,     2],\n",
       "       [    1,    22, 32700,     3],\n",
       "       [    1,    28, 40600,     1]], dtype=int64)"
      ]
     },
     "metadata": {},
     "output_type": "display_data"
    }
   ],
   "source": [
    "# Convert the DataFrame to a NumPy array for modeling\n",
    "X = df_pn.to_numpy()\n",
    "\n",
    "# Display NumPy array\n",
    "display(X)"
   ]
  },
  {
   "cell_type": "markdown",
   "metadata": {},
   "source": [
    "Generating a random matrix $P$."
   ]
  },
  {
   "cell_type": "code",
   "execution_count": 39,
   "metadata": {},
   "outputs": [
    {
     "name": "stdout",
     "output_type": "stream",
     "text": [
      "[[0.77395605 0.43887844 0.85859792 0.69736803]\n",
      " [0.09417735 0.97562235 0.7611397  0.78606431]\n",
      " [0.12811363 0.45038594 0.37079802 0.92676499]\n",
      " [0.64386512 0.82276161 0.4434142  0.22723872]]\n"
     ]
    }
   ],
   "source": [
    "# Create a random number generator with a fixed seed for reproducibility\n",
    "rng = np.random.default_rng(seed=42)\n",
    "\n",
    "# Generate a random matrix of shape\n",
    "P = rng.random(size=(X.shape[1], X.shape[1]))  \n",
    "\n",
    "# Display a random matrix\n",
    "print(P[:5])"
   ]
  },
  {
   "cell_type": "markdown",
   "metadata": {},
   "source": [
    "Checking the matrix $P$ is invertible"
   ]
  },
  {
   "cell_type": "code",
   "execution_count": 40,
   "metadata": {},
   "outputs": [
    {
     "name": "stdout",
     "output_type": "stream",
     "text": [
      "The matrix is invertible\n"
     ]
    }
   ],
   "source": [
    "try:\n",
    "    # Try to compute the inverse of matrix P\n",
    "    P_inv = np.linalg.inv(P)\n",
    "    print(\"The matrix is invertible\")\n",
    "except np.linalg.LinAlgError:\n",
    "    print(\"The matrix is NOT invertible.\")"
   ]
  },
  {
   "cell_type": "markdown",
   "metadata": {},
   "source": [
    "Can you guess the customers' ages or income after the transformation?"
   ]
  },
  {
   "cell_type": "markdown",
   "metadata": {},
   "source": [
    "After the transformation, if the values in these features look completely random, then obfuscation is working. If one can see the trends, the obfuscation is not good enough. "
   ]
  },
  {
   "cell_type": "markdown",
   "metadata": {},
   "source": [
    "Can you recover the original data from $X'$ if you know $P$? Try to check that with calculations by moving $P$ from the right side of the formula above to the left one. The rules of matrix multiplcation are really helpful here."
   ]
  },
  {
   "cell_type": "markdown",
   "metadata": {},
   "source": [
    "Yes, one can recover the original data from $X'$ if one knows $P$ in the equation. "
   ]
  },
  {
   "cell_type": "markdown",
   "metadata": {},
   "source": [
    "Print all three cases for a few customers\n",
    "- The original data\n",
    "- The transformed one\n",
    "- The reversed (recovered) one"
   ]
  },
  {
   "cell_type": "code",
   "execution_count": 41,
   "metadata": {},
   "outputs": [
    {
     "name": "stdout",
     "output_type": "stream",
     "text": [
      "Original Data:\n",
      "[[    1    41 49600     1]\n",
      " [    0    46 38000     1]\n",
      " [    0    29 21000     0]\n",
      " [    0    21 41700     2]\n",
      " [    1    28 26100     0]]\n"
     ]
    }
   ],
   "source": [
    "# Display the first 5 rows of the NumPy array X\n",
    "print(\"Original Data:\")\n",
    "print(X[:5])"
   ]
  },
  {
   "cell_type": "code",
   "execution_count": 42,
   "metadata": {},
   "outputs": [
    {
     "name": "stdout",
     "output_type": "stream",
     "text": [
      "Transformed Data:\n"
     ]
    },
    {
     "data": {
      "text/plain": [
       "array([[ 6359.71527314, 22380.40467609, 18424.09074184, 46000.69669016],\n",
       "       [ 4873.29406479, 17160.36702982, 14125.78076133, 35253.45577301],\n",
       "       [ 2693.11742928,  9486.397744  ,  7808.83156024, 19484.86063067],\n",
       "       [ 5345.60393712, 18803.22720286, 15479.14837264, 38663.06186284],\n",
       "       [ 3347.17673462, 11782.82928336,  9699.99894205, 24211.27337753]])"
      ]
     },
     "metadata": {},
     "output_type": "display_data"
    }
   ],
   "source": [
    "# Apply linear transformation by multiplying X with matrix P\n",
    "X_prime = X.dot(P)\n",
    "\n",
    "# Display first 5 rows of the transformed data\n",
    "print(\"Transformed Data:\")\n",
    "display(X_prime[:5])"
   ]
  },
  {
   "cell_type": "code",
   "execution_count": 43,
   "metadata": {},
   "outputs": [
    {
     "name": "stdout",
     "output_type": "stream",
     "text": [
      "Recovered Data:\n",
      "[[ 1.00000000e+00  4.10000000e+01  4.96000000e+04  1.00000000e+00]\n",
      " [-5.00222086e-12  4.60000000e+01  3.80000000e+04  1.00000000e+00]\n",
      " [-3.63797881e-12  2.90000000e+01  2.10000000e+04 -9.09494702e-13]\n",
      " [-5.45696821e-12  2.10000000e+01  4.17000000e+04  2.00000000e+00]\n",
      " [ 1.00000000e+00  2.80000000e+01  2.61000000e+04  3.18323146e-12]]\n"
     ]
    }
   ],
   "source": [
    "# Calculate inverse of matrix P\n",
    "P_inv = np.linalg.inv(P)\n",
    "\n",
    "# Recover original data by multiplying transformed data by inverse of P\n",
    "X_recovered = X_prime.dot(P_inv)\n",
    "\n",
    "# Display first 5 rows of recovered data\n",
    "print(\"Recovered Data:\")\n",
    "print(X_recovered[:5])"
   ]
  },
  {
   "cell_type": "markdown",
   "metadata": {},
   "source": [
    "You can probably see that some values are not exactly the same as they are in the original data. What might be the reason for that?"
   ]
  },
  {
   "cell_type": "markdown",
   "metadata": {},
   "source": [
    "Yes, some values are not exactly the same as they are in original data. This can be due to floating-point precision errors which can result in rounding errors when performing calculations. Along with it, matrix inversion approximation can be the reason as calculating the inverse of a matrix is not always exact due to the numerical calculations. "
   ]
  },
  {
   "cell_type": "markdown",
   "metadata": {},
   "source": [
    "## Proof That Data Obfuscation Can Work with LR"
   ]
  },
  {
   "cell_type": "markdown",
   "metadata": {},
   "source": [
    "The regression task has been solved with linear regression in this project. Your next task is to prove _analytically_ that the given obfuscation method won't affect linear regression in terms of predicted values i.e. their values will remain the same. Can you believe that? Well, you don't have to, you should prove it!"
   ]
  },
  {
   "cell_type": "markdown",
   "metadata": {},
   "source": [
    "So, the data is obfuscated and there is $X \\times P$ instead of just $X$ now. Consequently, there are other weights $w_P$ as\n",
    "$$\n",
    "w = (X^T X)^{-1} X^T y \\quad \\Rightarrow \\quad w_P = [(XP)^T XP]^{-1} (XP)^T y\n",
    "$$\n",
    "\n",
    "How would $w$ and $w_P$ be linked if you simplify the formula for $w_P$ above? \n",
    "\n",
    "What would be predicted values with $w_P$? \n",
    "\n",
    "What does that mean for the quality of linear regression if you measure it with RMSE?\n",
    "\n",
    "Check Appendix B Properties of Matrices in the end of the notebook. There are useful formulas in there!\n",
    "\n",
    "No code is necessary in this section, only analytical explanation!"
   ]
  },
  {
   "cell_type": "markdown",
   "metadata": {},
   "source": [
    "**Answer: Analytical Proof**"
   ]
  },
  {
   "cell_type": "markdown",
   "metadata": {},
   "source": [
    "The solution for the weight vector $w$ is: \n",
    "$$w = (X^T X)^{-1} X^T y$$\n",
    "\n",
    "Instead of using $X$, the data is transformed using an invertible matrix $P$: \n",
    "$$X' = XP$$\n",
    "\n",
    "Now, to find $w_P$, in this formula, $w_P = (X'^T X)^{-1} X'^T y$, substitute $X' = XP$ :\n",
    "$$w_P = [(XP)^T XP]^{-1} (XP)^T y$$\n",
    "\n",
    "Using Reversivity of Transpose: $$(A B)^T = B^T A^T$$\n",
    "$$(X P)^T = P^T X^T$$\n",
    "\n",
    "Thus,\n",
    "$$w_P = (P^T X^T X P)^{-1} P^T X^T y$$\n",
    "\n",
    "The transformed weight vector $w_P$ is related to the original weight vector $w$ by the inverse of the transformation matrix P. This shows that the obfuscation process does not affect linear regression in terms of predicted values.\n"
   ]
  },
  {
   "cell_type": "markdown",
   "metadata": {},
   "source": [
    "Using the Inverse of a Product Rule: \n",
    "$$(AB)^{-1} = B^{-1}A^{-1}$$\n",
    "\n",
    "Applying this to $[(XP)^T XP]^{-1}$ will give the equation below, \n",
    "$$w_P = P^{-1} (X^T X)^{-1} P^{-T} P^T X^T y$$\n",
    "\n",
    "Since $( P^{-T} P^T = I$ (Identity Matrix Property):\n",
    "$$w_P = P^{-1} (X^T X)^{-1} X^T y$$\n",
    "\n",
    "From the original formula $( w = (X^T X)^{-1} X^T y$, its concluded that:\n",
    "$$w_P = P^{-1} w$$\n",
    "                            \n",
    "The predicted values with $w_P$ remain the same which means that the transformation has no effect on the predictions made by the model."
   ]
  },
  {
   "cell_type": "markdown",
   "metadata": {},
   "source": [
    "Predicted values in the original model:\n",
    "$$\\hat{y} = X w$$\n",
    "\n",
    "Predicted values in the obfuscated model:\n",
    "$$\\hat{y}' = X' w_P$$\n",
    "\n",
    "Substituting $X' = X P$ and $w_P = P^{-1} w$:\n",
    "$$\\hat{y}' = X P P^{-1} w$$\n",
    "\n",
    "Using the Multiplicative Identity Property:\n",
    "$$P P^{-1} = I$$\n",
    "$$\\hat{y}' = X w$$\n",
    "\n",
    "Thus,\n",
    "$$\\hat{y}' = \\hat{y}$$\n",
    "\n",
    "RMSE means the average predictions error, as mentioned in the above question the predictions made by the model would be same, RMSE remains exactly the same. "
   ]
  },
  {
   "cell_type": "markdown",
   "metadata": {},
   "source": [
    "## Test Linear Regression With Data Obfuscation"
   ]
  },
  {
   "cell_type": "markdown",
   "metadata": {},
   "source": [
    "Now, let's prove Linear Regression can work computationally with the chosen obfuscation transformation.\n",
    "\n",
    "Build a procedure or a class that runs Linear Regression optionally with the obfuscation. You can use either a ready implementation of Linear Regression from sciki-learn or your own.\n",
    "\n",
    "Run Linear Regression for the original data and the obfuscated one, compare the predicted values and the RMSE, $R^2$ metric values. Is there any difference?"
   ]
  },
  {
   "cell_type": "markdown",
   "metadata": {},
   "source": [
    "**Procedure**\n",
    "\n",
    "- Create a square matrix $P$ of random numbers.\n",
    "- Check that it is invertible. If not, repeat the first point until we get an invertible matrix.\n",
    "- Multiply the original feature matrix $X$ by $P$ to obtain $XP$.\n",
    "- Use $XP$ as the new feature matrix"
   ]
  },
  {
   "cell_type": "code",
   "execution_count": 44,
   "metadata": {},
   "outputs": [],
   "source": [
    "# Initialize random number generator with seed 7 for reproducibility\n",
    "rng = np.random.default_rng(seed=7)\n",
    "\n",
    "# Create a random square matrix of size equal to number of features in X\n",
    "P = rng.random(size=(X.shape[1], X.shape[1]))"
   ]
  },
  {
   "cell_type": "code",
   "execution_count": 45,
   "metadata": {},
   "outputs": [
    {
     "name": "stdout",
     "output_type": "stream",
     "text": [
      "[[0.62509547 0.8972138  0.77568569 0.22520719]\n",
      " [0.30016628 0.87355345 0.0052653  0.82122842]\n",
      " [0.79706943 0.46793495 0.30303243 0.27842561]\n",
      " [0.25486959 0.44507631 0.50454826 0.55349735]]\n"
     ]
    }
   ],
   "source": [
    "# Display the first 5 rows of matrix P\n",
    "print(P[:5])"
   ]
  },
  {
   "cell_type": "code",
   "execution_count": 46,
   "metadata": {},
   "outputs": [
    {
     "name": "stdout",
     "output_type": "stream",
     "text": [
      "The matrix is invertible\n"
     ]
    }
   ],
   "source": [
    "# Attempt to compute the inverse of matrix P\n",
    "try:\n",
    "    P_inv = np.linalg.inv(P)\n",
    "    print(\"The matrix is invertible\")\n",
    "except np.linalg.LinAlgError:\n",
    "    print(\"The matrix is NOT invertible.\")"
   ]
  },
  {
   "cell_type": "code",
   "execution_count": 47,
   "metadata": {},
   "outputs": [
    {
     "name": "stdout",
     "output_type": "stream",
     "text": [
      "Original Data:\n",
      "[[    1    41 49600     1]\n",
      " [    0    46 38000     1]\n",
      " [    0    29 21000     0]\n",
      " [    0    21 41700     2]\n",
      " [    1    28 26100     0]]\n"
     ]
    }
   ],
   "source": [
    "# Display the first 5 rows of the original data matrix X\n",
    "print(\"Original Data:\")\n",
    "print(X[:5])"
   ]
  },
  {
   "cell_type": "code",
   "execution_count": 48,
   "metadata": {},
   "outputs": [
    {
     "name": "stdout",
     "output_type": "stream",
     "text": [
      "Transformed Data:\n",
      "[[39547.83044884 23246.73164242 15031.90448167 13844.35942989]\n",
      " [30302.70081127 17822.15674286 11515.9789714  10618.50326443]\n",
      " [16747.16282606  9851.96705963  6363.83365704  5870.75347825]\n",
      " [33244.60841012 19532.12230855 12637.57186628 11628.70081609]\n",
      " [20812.54184187 12238.45897949  7910.0694542   7290.12807873]]\n"
     ]
    }
   ],
   "source": [
    "# Apply a linear transformation to the original data using matrix P\n",
    "X_prime = X.dot(P)\n",
    "\n",
    "# Display the first 5 rows of the transformed data\n",
    "print(\"Transformed Data:\")\n",
    "print(X_prime[:5])"
   ]
  },
  {
   "cell_type": "code",
   "execution_count": 49,
   "metadata": {},
   "outputs": [
    {
     "name": "stdout",
     "output_type": "stream",
     "text": [
      "Recovered Data:\n",
      "[[1.00000000e+00 4.10000000e+01 4.96000000e+04 1.00000000e+00]\n",
      " [0.00000000e+00 4.60000000e+01 3.80000000e+04 1.00000000e+00]\n",
      " [9.09494702e-13 2.90000000e+01 2.10000000e+04 0.00000000e+00]\n",
      " [1.09139364e-11 2.10000000e+01 4.17000000e+04 2.00000000e+00]\n",
      " [1.00000000e+00 2.80000000e+01 2.61000000e+04 0.00000000e+00]]\n"
     ]
    }
   ],
   "source": [
    "# Compute the inverse of the transformation matrix P\n",
    "P_inv = np.linalg.inv(P)\n",
    "\n",
    "# Recover the original data by reversing the transformation\n",
    "X_recovered = X_prime.dot(P_inv)\n",
    "\n",
    "# Display the first 5 rows of the recovered data\n",
    "print(\"Recovered Data:\")\n",
    "print(X_recovered[:5])"
   ]
  },
  {
   "cell_type": "code",
   "execution_count": 50,
   "metadata": {},
   "outputs": [],
   "source": [
    "# Simple linear regression model using the Normal Equation for fitting and prediction\n",
    "class MyLinearRegression:\n",
    "    \n",
    "    def __init__(self):\n",
    "        \n",
    "        self.weights = None\n",
    "    \n",
    "    def fit(self, X, y):\n",
    "        \n",
    "        # adding the unities\n",
    "        X2 = np.append(np.ones([len(X), 1]), X, axis=1)\n",
    "        self.weights = np.linalg.inv(X2.T.dot(X2)).dot(X2.T).dot(y)\n",
    "\n",
    "    def predict(self, X):\n",
    "        \n",
    "        # adding the unities\n",
    "        X2 = np.append(np.ones([len(X), 1]), X, axis=1)\n",
    "        y_pred = X2.dot(self.weights)\n",
    "        \n",
    "        return y_pred"
   ]
  },
  {
   "cell_type": "code",
   "execution_count": 51,
   "metadata": {},
   "outputs": [],
   "source": [
    " # Evaluate regression performance by printing RMSE and R2 scores\n",
    "def eval_regressor(y_true, y_pred):\n",
    "    \n",
    "    rmse = math.sqrt(sklearn.metrics.mean_squared_error(y_true, y_pred))\n",
    "    print(f'RMSE: {rmse:.2f}')\n",
    "    \n",
    "    r2_score = math.sqrt(sklearn.metrics.r2_score(y_true, y_pred))\n",
    "    print(f'R2: {r2_score:.2f}')    "
   ]
  },
  {
   "cell_type": "code",
   "execution_count": 52,
   "metadata": {},
   "outputs": [
    {
     "name": "stdout",
     "output_type": "stream",
     "text": [
      "[-9.68028971e-01  3.68125120e-02  8.58684316e-03 -3.38858957e-07\n",
      " -1.08016562e-02]\n",
      "RMSE: 0.33\n",
      "R2: 0.64\n"
     ]
    }
   ],
   "source": [
    "# Select features and target\n",
    "X = df[['age', 'gender', 'salary', 'family_members']].to_numpy()\n",
    "y = df['insurance_benefits'].to_numpy()\n",
    "\n",
    "# Split the data into training and testing sets\n",
    "X_train, X_test, y_train, y_test = train_test_split(\n",
    "    X, \n",
    "    y, \n",
    "    test_size=0.3, \n",
    "    random_state=7\n",
    "    )\n",
    "\n",
    "# Initialize linear regression model\n",
    "lr = MyLinearRegression()\n",
    "\n",
    "# Train the model on training data\n",
    "lr.fit(X_train, y_train)\n",
    "\n",
    "# Print learned weights\n",
    "print(lr.weights)\n",
    "\n",
    "# Predict on test data\n",
    "y_test_pred = lr.predict(X_test)\n",
    "\n",
    "# Evaluate predictions using regression metrics\n",
    "eval_regressor(y_test, y_test_pred)"
   ]
  },
  {
   "cell_type": "code",
   "execution_count": 53,
   "metadata": {},
   "outputs": [
    {
     "name": "stdout",
     "output_type": "stream",
     "text": [
      "[-0.96802895 -0.01282736  0.06757678 -0.05035667 -0.02204494]\n",
      "RMSE: 0.33\n",
      "R2: 0.64\n"
     ]
    }
   ],
   "source": [
    "# Split the obfuscated data into training and testing sets\n",
    "X_train_prime, X_test_prime, y_train, y_test = train_test_split(\n",
    "    X_prime, \n",
    "    y, \n",
    "    test_size=0.3, \n",
    "    random_state=7\n",
    "    )\n",
    "\n",
    "# Initialize the linear regression model\n",
    "lr_obfuscated = MyLinearRegression()\n",
    "\n",
    "# Train the model on the transformed (obfuscated) training data\n",
    "lr_obfuscated.fit(X_train_prime, y_train)\n",
    "\n",
    "# Print learned weights\n",
    "print(lr_obfuscated.weights)\n",
    "\n",
    "# Predict on the transformed (obfuscated) test data\n",
    "y_test_pred_obfuscated = lr_obfuscated.predict(X_test_prime)\n",
    "\n",
    "# Evaluate predictions\n",
    "eval_regressor(y_test, y_test_pred_obfuscated)"
   ]
  },
  {
   "cell_type": "markdown",
   "metadata": {},
   "source": [
    "Hence, based on the above example it is proved that the given obfuscation method won't affect linear regression in terms of predicted values i.e. their values will remain the same and thus RMSE remain the same."
   ]
  },
  {
   "cell_type": "markdown",
   "metadata": {},
   "source": [
    "# Conclusions"
   ]
  },
  {
   "cell_type": "markdown",
   "metadata": {},
   "source": [
    "The project is based on to solve several tasks for The Sure Insurance Company with the help of Machine Learning along with evaluating the possibility. For this, firstly data preprocessing and exploration was done in which it was known that the dataset consists of 153 duplicates and 0 missing values.\n",
    "\n",
    " For first task, a procedure was developed that returns 5 nearest neighbors for a give object based on the distance between the object. To check the procedure which was developed, it was tested using four combination of two cases thast includes unscaled and scaled data, measured using euclidean and manhattan distance metrics. This shows that the algorithm works successfully and known that whether the data is scaled or not did not make any difference in the RMSE. \n",
    "\n",
    " For second task, a KNN-based classifier was build to determine if customer is likely to recieve insurance benefit and F1 metric was used to measure its qualilty. Along with this a dummy model was developed to test the model with four probability values: 0, 0.5, 1, and the probability of paying any insurance benefit. With this dummy model, a KNN-based classifier was successfuly tested for both original and scaled datasets. The results shows the impact of feature scaling on the performace of KNN Classifier when predicting whether insurance benefits were received. Without feature scaling, the F1 score are quite low, ranging from 0.03 to 0.64. As the number of neighbors increases, performance significantly declines. The confusion matrices show a strong bias toward predicting the majority class of ones not recieving insurance benefits. With feature scaling, the F1 scores drastically improve, 0.93 to 0.96 compared to that of without feature scaling. The confusion matrices indicate better classification with more balanced predictions between classes. As KNN relies on distance calculations and if features have different ranges such as income in thousands and age in tens, the larger-scale features dominate the distance metric. Thus, scaling ensures all features contribute equally, leading to better classification performance and so, feature scaling is essential for distance-based models like KNN. Without it, the classifier struggles to differentiate between classes, leading to poor performance. \n",
    "\n",
    " For third task, class of LR was developed and RMSE for a Linear Regression model was evaluated using original dataset and scaled dataset. When testing the model by running for two different datasets, it was known that scaling did not affect the models's predictive performance, as RMSE and R2 remain the same. The model weights change because scaling effects the scale of the input features. Since linear regression adjusts for these transformations internally, the final predictions remains the same and so does the RMSE and R2 of both datasets.\n",
    "\n",
    " Lastly for fourth task, first an obfuscate data was developed and then the original data was recovered from an obfuscate data using analytical proof without affecting linear regression - that is the predicted values remained the same. Following this, a class is build that runs Linear Regression with the obfuscation for the original data and the obfuscated data to determine if the predicted values and the RMSE metric values change. After building a procedure and running it for two datasets, original and obfuscated data, it was known that there was no difference between RMSE metric values of both datasets. This supported the analysis and showed that the data was successfully obfuscated and that the original data was successfully recovered from obfuscated data. "
   ]
  },
  {
   "cell_type": "markdown",
   "metadata": {},
   "source": [
    "Type 'x' to check. Then press Shift+Enter."
   ]
  },
  {
   "cell_type": "markdown",
   "metadata": {},
   "source": [
    "- [x]  Jupyter Notebook is open\n",
    "- [x]  Code is error free\n",
    "- [x]  The cells are arranged in order of logic and execution\n",
    "- [x]  Task 1 has been performed\n",
    "    - [x]  There is the procedure that can return k similar customers for a given one\n",
    "    - [x]  The procedure is tested for all four proposed combinations\n",
    "    - [x]  The questions re the scaling/distances are answered\n",
    "- [x]  Task 2 has been performed\n",
    "    - [x]  The random classification model is built and tested for all for probability levels\n",
    "    - [x]  The kNN classification model is built and tested for both the original data and the scaled one, the F1 metric is calculated.\n",
    "- [x]  Task 3 has been performed\n",
    "    - [x]  The linear tegression solution is implemented with matrix operations.\n",
    "    - [x]  RMSE is calculated for the implemented solution.\n",
    "- [x]  Task 4 has been performed\n",
    "    - [x]  The data is obfuscated with a random and invertible matrix P\n",
    "    - [x]  The obfuscated data is recoved, few examples are printed out\n",
    "    - [x]  The analytical proof that the transformation does not affect RMSE is provided \n",
    "    - [x]  The computational proof that the transformation does not affect RMSE is provided\n",
    "- [x]  Conclusions have been made"
   ]
  },
  {
   "cell_type": "markdown",
   "metadata": {},
   "source": [
    "# Appendices \n",
    "\n",
    "## Appendix A: Writing Formulas in Jupyter Notebooks"
   ]
  },
  {
   "cell_type": "markdown",
   "metadata": {},
   "source": [
    "You can write formulas in your Jupyter Notebook in a markup language provided by a high-quality publishing system called $\\LaTeX$ (pronounced \"Lah-tech\"), and they will look like formulas in textbooks.\n",
    "\n",
    "To put a formula in a text, put the dollar sign (\\\\$) before and after the formula's text e.g. $\\frac{1}{2} \\times \\frac{3}{2} = \\frac{3}{4}$ or $y = x^2, x \\ge 1$.\n",
    "\n",
    "If a formula should be in its own paragraph, put the double dollar sign (\\\\$\\\\$) before and after the formula text e.g.\n",
    "\n",
    "$$\n",
    "\\bar{x} = \\frac{1}{n}\\sum_{i=1}^{n} x_i.\n",
    "$$\n",
    "\n",
    "The markup language of [LaTeX](https://en.wikipedia.org/wiki/LaTeX) is very popular among people who use formulas in their articles, books and texts. It can be complex but its basics are easy. Check this two page [cheatsheet](http://tug.ctan.org/info/undergradmath/undergradmath.pdf) for learning how to compose the most common formulas."
   ]
  },
  {
   "cell_type": "markdown",
   "metadata": {},
   "source": [
    "## Appendix B: Properties of Matrices"
   ]
  },
  {
   "cell_type": "markdown",
   "metadata": {},
   "source": [
    "Matrices have many properties in Linear Algebra. A few of them are listed here which can help with the analytical proof in this project."
   ]
  },
  {
   "cell_type": "markdown",
   "metadata": {},
   "source": [
    "<table>\n",
    "<tr>\n",
    "<td>Distributivity</td><td>$A(B+C)=AB+AC$</td>\n",
    "</tr>\n",
    "<tr>\n",
    "<td>Non-commutativity</td><td>$AB \\neq BA$</td>\n",
    "</tr>\n",
    "<tr>\n",
    "<td>Associative property of multiplication</td><td>$(AB)C = A(BC)$</td>\n",
    "</tr>\n",
    "<tr>\n",
    "<td>Multiplicative identity property</td><td>$IA = AI = A$</td>\n",
    "</tr>\n",
    "<tr>\n",
    "<td></td><td>$A^{-1}A = AA^{-1} = I$\n",
    "</td>\n",
    "</tr>    \n",
    "<tr>\n",
    "<td></td><td>$(AB)^{-1} = B^{-1}A^{-1}$</td>\n",
    "</tr>    \n",
    "<tr>\n",
    "<td>Reversivity of the transpose of a product of matrices,</td><td>$(AB)^T = B^TA^T$</td>\n",
    "</tr>    \n",
    "</table>"
   ]
  }
 ],
 "metadata": {
  "ExecuteTimeLog": [
   {
    "duration": 9,
    "start_time": "2025-02-20T07:41:00.768Z"
   },
   {
    "duration": 158,
    "start_time": "2025-02-20T07:41:04.274Z"
   },
   {
    "duration": 2965,
    "start_time": "2025-02-20T07:41:16.087Z"
   },
   {
    "duration": 13,
    "start_time": "2025-02-20T07:41:19.054Z"
   },
   {
    "duration": 3,
    "start_time": "2025-02-20T07:41:19.068Z"
   },
   {
    "duration": 11,
    "start_time": "2025-02-20T07:41:19.074Z"
   },
   {
    "duration": 8,
    "start_time": "2025-02-20T07:41:19.086Z"
   },
   {
    "duration": 28,
    "start_time": "2025-02-20T07:41:19.096Z"
   },
   {
    "duration": 9,
    "start_time": "2025-02-20T07:41:19.126Z"
   },
   {
    "duration": 17,
    "start_time": "2025-02-20T07:41:19.137Z"
   },
   {
    "duration": 5,
    "start_time": "2025-02-20T07:41:19.156Z"
   },
   {
    "duration": 5,
    "start_time": "2025-02-20T07:41:19.164Z"
   },
   {
    "duration": 2748,
    "start_time": "2025-02-20T07:41:19.170Z"
   },
   {
    "duration": 4,
    "start_time": "2025-02-20T07:41:21.919Z"
   },
   {
    "duration": 5,
    "start_time": "2025-02-20T07:41:21.925Z"
   },
   {
    "duration": 10,
    "start_time": "2025-02-20T07:41:21.932Z"
   },
   {
    "duration": 9,
    "start_time": "2025-02-20T07:41:21.944Z"
   },
   {
    "duration": 3,
    "start_time": "2025-02-20T07:41:21.955Z"
   },
   {
    "duration": 13,
    "start_time": "2025-02-20T07:41:21.959Z"
   },
   {
    "duration": 55,
    "start_time": "2025-02-20T07:41:21.974Z"
   },
   {
    "duration": 9,
    "start_time": "2025-02-20T07:41:22.030Z"
   },
   {
    "duration": 8,
    "start_time": "2025-02-20T07:41:22.041Z"
   },
   {
    "duration": 10,
    "start_time": "2025-02-20T07:41:22.050Z"
   },
   {
    "duration": 11,
    "start_time": "2025-02-20T07:41:22.062Z"
   },
   {
    "duration": 5,
    "start_time": "2025-02-20T07:41:22.075Z"
   },
   {
    "duration": 42,
    "start_time": "2025-02-20T07:41:22.083Z"
   },
   {
    "duration": 5,
    "start_time": "2025-02-20T07:41:22.127Z"
   },
   {
    "duration": 4,
    "start_time": "2025-02-20T07:41:22.134Z"
   },
   {
    "duration": 4,
    "start_time": "2025-02-20T07:41:22.140Z"
   },
   {
    "duration": 19,
    "start_time": "2025-02-20T07:41:22.147Z"
   },
   {
    "duration": 575,
    "start_time": "2025-02-20T07:41:22.168Z"
   },
   {
    "duration": 4,
    "start_time": "2025-02-20T07:44:17.896Z"
   },
   {
    "duration": 5,
    "start_time": "2025-02-20T07:44:36.341Z"
   },
   {
    "duration": 9,
    "start_time": "2025-02-20T07:44:43.356Z"
   },
   {
    "duration": 27,
    "start_time": "2025-02-20T07:47:07.521Z"
   },
   {
    "duration": 19,
    "start_time": "2025-02-20T07:47:43.149Z"
   },
   {
    "duration": 19,
    "start_time": "2025-02-20T07:50:18.936Z"
   },
   {
    "duration": 15,
    "start_time": "2025-02-20T09:38:18.974Z"
   },
   {
    "duration": 5,
    "start_time": "2025-02-20T09:38:27.642Z"
   },
   {
    "duration": 14,
    "start_time": "2025-02-20T09:38:29.965Z"
   },
   {
    "duration": 3,
    "start_time": "2025-02-20T09:38:48.696Z"
   },
   {
    "duration": 8,
    "start_time": "2025-02-20T09:38:48.702Z"
   },
   {
    "duration": 3,
    "start_time": "2025-02-20T09:38:48.712Z"
   },
   {
    "duration": 7,
    "start_time": "2025-02-20T09:38:48.718Z"
   },
   {
    "duration": 8,
    "start_time": "2025-02-20T09:38:48.727Z"
   },
   {
    "duration": 4,
    "start_time": "2025-02-20T09:38:48.736Z"
   },
   {
    "duration": 9,
    "start_time": "2025-02-20T09:38:48.741Z"
   },
   {
    "duration": 15,
    "start_time": "2025-02-20T09:38:48.751Z"
   },
   {
    "duration": 5,
    "start_time": "2025-02-20T09:38:48.769Z"
   },
   {
    "duration": 5,
    "start_time": "2025-02-20T09:38:48.776Z"
   },
   {
    "duration": 2635,
    "start_time": "2025-02-20T09:38:48.783Z"
   },
   {
    "duration": 3,
    "start_time": "2025-02-20T09:38:51.424Z"
   },
   {
    "duration": 4,
    "start_time": "2025-02-20T09:38:51.429Z"
   },
   {
    "duration": 7,
    "start_time": "2025-02-20T09:38:51.435Z"
   },
   {
    "duration": 8,
    "start_time": "2025-02-20T09:38:51.444Z"
   },
   {
    "duration": 2,
    "start_time": "2025-02-20T09:38:51.454Z"
   },
   {
    "duration": 13,
    "start_time": "2025-02-20T09:38:51.458Z"
   },
   {
    "duration": 57,
    "start_time": "2025-02-20T09:38:51.472Z"
   },
   {
    "duration": 9,
    "start_time": "2025-02-20T09:38:51.531Z"
   },
   {
    "duration": 8,
    "start_time": "2025-02-20T09:38:51.541Z"
   },
   {
    "duration": 10,
    "start_time": "2025-02-20T09:38:51.550Z"
   },
   {
    "duration": 9,
    "start_time": "2025-02-20T09:38:51.561Z"
   },
   {
    "duration": 3,
    "start_time": "2025-02-20T09:38:51.572Z"
   },
   {
    "duration": 45,
    "start_time": "2025-02-20T09:38:51.580Z"
   },
   {
    "duration": 5,
    "start_time": "2025-02-20T09:38:51.626Z"
   },
   {
    "duration": 4,
    "start_time": "2025-02-20T09:38:51.632Z"
   },
   {
    "duration": 9,
    "start_time": "2025-02-20T09:38:51.638Z"
   },
   {
    "duration": 6,
    "start_time": "2025-02-20T09:38:51.649Z"
   },
   {
    "duration": 3,
    "start_time": "2025-02-20T09:38:51.657Z"
   },
   {
    "duration": 20,
    "start_time": "2025-02-20T09:38:51.662Z"
   },
   {
    "duration": 47,
    "start_time": "2025-02-20T09:38:51.684Z"
   },
   {
    "duration": 4,
    "start_time": "2025-02-20T09:38:51.733Z"
   },
   {
    "duration": 3,
    "start_time": "2025-02-20T09:38:51.739Z"
   },
   {
    "duration": 6,
    "start_time": "2025-02-20T09:38:51.744Z"
   },
   {
    "duration": 5,
    "start_time": "2025-02-20T09:38:51.751Z"
   },
   {
    "duration": 14,
    "start_time": "2025-02-20T09:38:54.658Z"
   },
   {
    "duration": 4,
    "start_time": "2025-02-20T09:40:24.791Z"
   },
   {
    "duration": 19,
    "start_time": "2025-02-20T09:40:26.850Z"
   },
   {
    "duration": 4,
    "start_time": "2025-02-20T09:40:36.215Z"
   },
   {
    "duration": 9,
    "start_time": "2025-02-21T06:27:28.701Z"
   },
   {
    "duration": 4,
    "start_time": "2025-02-21T07:48:08.326Z"
   },
   {
    "duration": 2624,
    "start_time": "2025-02-21T07:57:50.848Z"
   },
   {
    "duration": 11,
    "start_time": "2025-02-21T07:57:53.474Z"
   },
   {
    "duration": 3,
    "start_time": "2025-02-21T07:57:53.487Z"
   },
   {
    "duration": 16,
    "start_time": "2025-02-21T07:57:53.493Z"
   },
   {
    "duration": 8,
    "start_time": "2025-02-21T07:57:53.510Z"
   },
   {
    "duration": 3,
    "start_time": "2025-02-21T07:57:53.520Z"
   },
   {
    "duration": 8,
    "start_time": "2025-02-21T07:57:53.525Z"
   },
   {
    "duration": 15,
    "start_time": "2025-02-21T07:57:53.535Z"
   },
   {
    "duration": 6,
    "start_time": "2025-02-21T07:57:53.552Z"
   },
   {
    "duration": 4,
    "start_time": "2025-02-21T07:57:53.562Z"
   },
   {
    "duration": 2549,
    "start_time": "2025-02-21T07:57:53.568Z"
   },
   {
    "duration": 4,
    "start_time": "2025-02-21T07:57:56.119Z"
   },
   {
    "duration": 4,
    "start_time": "2025-02-21T07:57:56.125Z"
   },
   {
    "duration": 8,
    "start_time": "2025-02-21T07:57:56.130Z"
   },
   {
    "duration": 8,
    "start_time": "2025-02-21T07:57:56.139Z"
   },
   {
    "duration": 3,
    "start_time": "2025-02-21T07:57:56.148Z"
   },
   {
    "duration": 12,
    "start_time": "2025-02-21T07:57:56.153Z"
   },
   {
    "duration": 47,
    "start_time": "2025-02-21T07:57:56.167Z"
   },
   {
    "duration": 7,
    "start_time": "2025-02-21T07:57:56.216Z"
   },
   {
    "duration": 8,
    "start_time": "2025-02-21T07:57:56.225Z"
   },
   {
    "duration": 8,
    "start_time": "2025-02-21T07:57:56.234Z"
   },
   {
    "duration": 8,
    "start_time": "2025-02-21T07:57:56.243Z"
   },
   {
    "duration": 3,
    "start_time": "2025-02-21T07:57:56.253Z"
   },
   {
    "duration": 4,
    "start_time": "2025-02-21T07:57:56.257Z"
   },
   {
    "duration": 49,
    "start_time": "2025-02-21T07:57:56.262Z"
   },
   {
    "duration": 4,
    "start_time": "2025-02-21T07:57:56.312Z"
   },
   {
    "duration": 5,
    "start_time": "2025-02-21T07:57:56.318Z"
   },
   {
    "duration": 3,
    "start_time": "2025-02-21T07:57:56.327Z"
   },
   {
    "duration": 2,
    "start_time": "2025-02-21T07:57:56.332Z"
   },
   {
    "duration": 18,
    "start_time": "2025-02-21T07:57:56.336Z"
   },
   {
    "duration": 20,
    "start_time": "2025-02-21T07:57:56.356Z"
   },
   {
    "duration": 32,
    "start_time": "2025-02-21T07:57:56.378Z"
   },
   {
    "duration": 3,
    "start_time": "2025-02-21T07:57:56.412Z"
   },
   {
    "duration": 4,
    "start_time": "2025-02-21T07:57:56.417Z"
   },
   {
    "duration": 6,
    "start_time": "2025-02-21T07:57:56.422Z"
   },
   {
    "duration": 3,
    "start_time": "2025-02-21T07:57:56.430Z"
   },
   {
    "duration": 6,
    "start_time": "2025-02-21T07:57:56.435Z"
   },
   {
    "duration": 66,
    "start_time": "2025-02-21T07:57:56.443Z"
   },
   {
    "duration": 8,
    "start_time": "2025-02-21T07:57:56.511Z"
   },
   {
    "duration": 3,
    "start_time": "2025-02-21T07:57:56.521Z"
   },
   {
    "duration": 3,
    "start_time": "2025-02-21T07:57:56.526Z"
   },
   {
    "duration": 79,
    "start_time": "2025-02-21T07:57:56.531Z"
   },
   {
    "duration": 3,
    "start_time": "2025-02-21T07:57:56.612Z"
   },
   {
    "duration": 3,
    "start_time": "2025-02-21T07:57:56.617Z"
   },
   {
    "duration": 3,
    "start_time": "2025-02-21T07:57:56.622Z"
   },
   {
    "duration": 5,
    "start_time": "2025-02-21T07:57:56.627Z"
   },
   {
    "duration": 3,
    "start_time": "2025-02-21T07:57:56.633Z"
   },
   {
    "duration": 71,
    "start_time": "2025-02-21T07:57:56.639Z"
   },
   {
    "duration": 3,
    "start_time": "2025-02-21T07:57:56.711Z"
   },
   {
    "duration": 3,
    "start_time": "2025-02-21T07:57:56.716Z"
   },
   {
    "duration": 3,
    "start_time": "2025-02-21T07:57:56.720Z"
   },
   {
    "duration": 2,
    "start_time": "2025-02-21T07:57:56.725Z"
   },
   {
    "duration": 3,
    "start_time": "2025-02-21T07:57:56.729Z"
   },
   {
    "duration": 78,
    "start_time": "2025-02-21T07:57:56.733Z"
   },
   {
    "duration": 5,
    "start_time": "2025-02-21T07:57:56.813Z"
   },
   {
    "duration": 8,
    "start_time": "2025-02-21T07:57:56.820Z"
   },
   {
    "duration": 83,
    "start_time": "2025-02-21T07:57:56.830Z"
   },
   {
    "duration": 7,
    "start_time": "2025-02-21T07:57:56.916Z"
   },
   {
    "duration": 6,
    "start_time": "2025-02-21T07:57:56.925Z"
   },
   {
    "duration": 943,
    "start_time": "2025-02-21T07:59:22.479Z"
   },
   {
    "duration": 8,
    "start_time": "2025-02-21T07:59:23.424Z"
   },
   {
    "duration": 3,
    "start_time": "2025-02-21T07:59:23.434Z"
   },
   {
    "duration": 11,
    "start_time": "2025-02-21T07:59:23.439Z"
   },
   {
    "duration": 8,
    "start_time": "2025-02-21T07:59:23.451Z"
   },
   {
    "duration": 3,
    "start_time": "2025-02-21T07:59:23.462Z"
   },
   {
    "duration": 8,
    "start_time": "2025-02-21T07:59:23.467Z"
   },
   {
    "duration": 15,
    "start_time": "2025-02-21T07:59:23.509Z"
   },
   {
    "duration": 4,
    "start_time": "2025-02-21T07:59:23.527Z"
   },
   {
    "duration": 4,
    "start_time": "2025-02-21T07:59:23.535Z"
   },
   {
    "duration": 2517,
    "start_time": "2025-02-21T07:59:23.541Z"
   },
   {
    "duration": 2,
    "start_time": "2025-02-21T07:59:26.060Z"
   },
   {
    "duration": 5,
    "start_time": "2025-02-21T07:59:26.064Z"
   },
   {
    "duration": 7,
    "start_time": "2025-02-21T07:59:26.070Z"
   },
   {
    "duration": 8,
    "start_time": "2025-02-21T07:59:26.079Z"
   },
   {
    "duration": 3,
    "start_time": "2025-02-21T07:59:26.088Z"
   },
   {
    "duration": 28,
    "start_time": "2025-02-21T07:59:26.093Z"
   },
   {
    "duration": 27,
    "start_time": "2025-02-21T07:59:26.122Z"
   },
   {
    "duration": 7,
    "start_time": "2025-02-21T07:59:26.151Z"
   },
   {
    "duration": 8,
    "start_time": "2025-02-21T07:59:26.159Z"
   },
   {
    "duration": 10,
    "start_time": "2025-02-21T07:59:26.168Z"
   },
   {
    "duration": 9,
    "start_time": "2025-02-21T07:59:26.209Z"
   },
   {
    "duration": 3,
    "start_time": "2025-02-21T07:59:26.219Z"
   },
   {
    "duration": 4,
    "start_time": "2025-02-21T07:59:26.223Z"
   },
   {
    "duration": 5,
    "start_time": "2025-02-21T07:59:26.228Z"
   },
   {
    "duration": 4,
    "start_time": "2025-02-21T07:59:26.234Z"
   },
   {
    "duration": 5,
    "start_time": "2025-02-21T07:59:26.240Z"
   },
   {
    "duration": 4,
    "start_time": "2025-02-21T07:59:26.250Z"
   },
   {
    "duration": 3,
    "start_time": "2025-02-21T07:59:26.256Z"
   },
   {
    "duration": 61,
    "start_time": "2025-02-21T07:59:26.260Z"
   },
   {
    "duration": 20,
    "start_time": "2025-02-21T07:59:26.322Z"
   },
   {
    "duration": 3,
    "start_time": "2025-02-21T07:59:26.343Z"
   },
   {
    "duration": 4,
    "start_time": "2025-02-21T07:59:26.348Z"
   },
   {
    "duration": 5,
    "start_time": "2025-02-21T07:59:26.353Z"
   },
   {
    "duration": 7,
    "start_time": "2025-02-21T07:59:26.359Z"
   },
   {
    "duration": 45,
    "start_time": "2025-02-21T07:59:26.367Z"
   },
   {
    "duration": 6,
    "start_time": "2025-02-21T07:59:26.413Z"
   },
   {
    "duration": 3,
    "start_time": "2025-02-21T07:59:26.421Z"
   },
   {
    "duration": 84,
    "start_time": "2025-02-21T07:59:26.426Z"
   },
   {
    "duration": 3,
    "start_time": "2025-02-21T07:59:26.512Z"
   },
   {
    "duration": 4,
    "start_time": "2025-02-21T07:59:26.517Z"
   },
   {
    "duration": 3,
    "start_time": "2025-02-21T07:59:26.522Z"
   },
   {
    "duration": 4,
    "start_time": "2025-02-21T07:59:26.526Z"
   },
   {
    "duration": 3,
    "start_time": "2025-02-21T07:59:26.532Z"
   },
   {
    "duration": 3,
    "start_time": "2025-02-21T07:59:26.537Z"
   },
   {
    "duration": 3,
    "start_time": "2025-02-21T07:59:26.610Z"
   },
   {
    "duration": 3,
    "start_time": "2025-02-21T07:59:26.615Z"
   },
   {
    "duration": 3,
    "start_time": "2025-02-21T07:59:26.620Z"
   },
   {
    "duration": 4,
    "start_time": "2025-02-21T07:59:26.627Z"
   },
   {
    "duration": 3,
    "start_time": "2025-02-21T07:59:26.708Z"
   },
   {
    "duration": 3,
    "start_time": "2025-02-21T07:59:26.713Z"
   },
   {
    "duration": 4,
    "start_time": "2025-02-21T07:59:26.717Z"
   },
   {
    "duration": 4,
    "start_time": "2025-02-21T07:59:26.722Z"
   },
   {
    "duration": 4,
    "start_time": "2025-02-21T07:59:26.727Z"
   },
   {
    "duration": 82,
    "start_time": "2025-02-21T07:59:26.732Z"
   },
   {
    "duration": 4,
    "start_time": "2025-02-21T07:59:26.815Z"
   },
   {
    "duration": 3,
    "start_time": "2025-02-21T07:59:26.821Z"
   },
   {
    "duration": 83,
    "start_time": "2025-02-21T07:59:26.826Z"
   },
   {
    "duration": 5,
    "start_time": "2025-02-21T07:59:26.911Z"
   },
   {
    "duration": 2656,
    "start_time": "2025-02-21T18:36:07.205Z"
   },
   {
    "duration": 13,
    "start_time": "2025-02-21T18:36:09.863Z"
   },
   {
    "duration": 3,
    "start_time": "2025-02-21T18:36:09.877Z"
   },
   {
    "duration": 10,
    "start_time": "2025-02-21T18:36:09.882Z"
   },
   {
    "duration": 9,
    "start_time": "2025-02-21T18:36:09.893Z"
   },
   {
    "duration": 4,
    "start_time": "2025-02-21T18:36:09.903Z"
   },
   {
    "duration": 8,
    "start_time": "2025-02-21T18:36:09.908Z"
   },
   {
    "duration": 40,
    "start_time": "2025-02-21T18:36:09.917Z"
   },
   {
    "duration": 5,
    "start_time": "2025-02-21T18:36:09.959Z"
   },
   {
    "duration": 4,
    "start_time": "2025-02-21T18:36:09.967Z"
   },
   {
    "duration": 2622,
    "start_time": "2025-02-21T18:36:09.973Z"
   },
   {
    "duration": 3,
    "start_time": "2025-02-21T18:36:12.597Z"
   },
   {
    "duration": 4,
    "start_time": "2025-02-21T18:36:12.602Z"
   },
   {
    "duration": 9,
    "start_time": "2025-02-21T18:36:12.607Z"
   },
   {
    "duration": 9,
    "start_time": "2025-02-21T18:36:12.617Z"
   },
   {
    "duration": 3,
    "start_time": "2025-02-21T18:36:12.627Z"
   },
   {
    "duration": 81,
    "start_time": "2025-02-21T18:36:12.643Z"
   },
   {
    "duration": 36,
    "start_time": "2025-02-21T18:36:12.728Z"
   },
   {
    "duration": 10,
    "start_time": "2025-02-21T18:36:12.765Z"
   },
   {
    "duration": 7,
    "start_time": "2025-02-21T18:36:12.776Z"
   },
   {
    "duration": 10,
    "start_time": "2025-02-21T18:36:12.785Z"
   },
   {
    "duration": 9,
    "start_time": "2025-02-21T18:36:12.796Z"
   },
   {
    "duration": 3,
    "start_time": "2025-02-21T18:36:12.807Z"
   },
   {
    "duration": 33,
    "start_time": "2025-02-21T18:36:12.812Z"
   },
   {
    "duration": 4,
    "start_time": "2025-02-21T18:36:12.846Z"
   },
   {
    "duration": 5,
    "start_time": "2025-02-21T18:36:12.852Z"
   },
   {
    "duration": 5,
    "start_time": "2025-02-21T18:36:12.859Z"
   },
   {
    "duration": 4,
    "start_time": "2025-02-21T18:36:12.869Z"
   },
   {
    "duration": 3,
    "start_time": "2025-02-21T18:36:12.874Z"
   },
   {
    "duration": 20,
    "start_time": "2025-02-21T18:36:12.879Z"
   },
   {
    "duration": 58,
    "start_time": "2025-02-21T18:36:12.900Z"
   },
   {
    "duration": 5,
    "start_time": "2025-02-21T18:47:41.552Z"
   },
   {
    "duration": 5,
    "start_time": "2025-02-21T18:47:50.874Z"
   },
   {
    "duration": 9,
    "start_time": "2025-02-21T18:54:52.335Z"
   },
   {
    "duration": 11,
    "start_time": "2025-02-21T18:59:25.683Z"
   },
   {
    "duration": 32,
    "start_time": "2025-02-21T19:00:25.496Z"
   },
   {
    "duration": 33,
    "start_time": "2025-02-21T19:00:43.713Z"
   },
   {
    "duration": 6,
    "start_time": "2025-02-21T19:01:38.599Z"
   },
   {
    "duration": 29,
    "start_time": "2025-02-21T19:01:40.428Z"
   },
   {
    "duration": 31,
    "start_time": "2025-02-21T19:02:41.760Z"
   },
   {
    "duration": 30,
    "start_time": "2025-02-21T19:04:21.954Z"
   },
   {
    "duration": 32,
    "start_time": "2025-02-21T19:05:22.635Z"
   },
   {
    "duration": 255,
    "start_time": "2025-02-21T19:06:08.846Z"
   },
   {
    "duration": 32,
    "start_time": "2025-02-21T19:06:41.989Z"
   },
   {
    "duration": 41,
    "start_time": "2025-02-21T19:07:24.585Z"
   },
   {
    "duration": 3,
    "start_time": "2025-02-21T19:07:32.953Z"
   },
   {
    "duration": 40,
    "start_time": "2025-02-21T19:07:36.408Z"
   },
   {
    "duration": 33,
    "start_time": "2025-02-21T19:07:49.627Z"
   },
   {
    "duration": 258,
    "start_time": "2025-02-21T19:15:40.298Z"
   },
   {
    "duration": 7,
    "start_time": "2025-02-21T19:17:24.973Z"
   },
   {
    "duration": 334,
    "start_time": "2025-02-21T19:17:50.082Z"
   },
   {
    "duration": 960,
    "start_time": "2025-02-21T20:07:08.183Z"
   },
   {
    "duration": 8,
    "start_time": "2025-02-21T20:07:09.146Z"
   },
   {
    "duration": 3,
    "start_time": "2025-02-21T20:07:09.156Z"
   },
   {
    "duration": 11,
    "start_time": "2025-02-21T20:07:09.162Z"
   },
   {
    "duration": 9,
    "start_time": "2025-02-21T20:07:09.174Z"
   },
   {
    "duration": 4,
    "start_time": "2025-02-21T20:07:09.184Z"
   },
   {
    "duration": 9,
    "start_time": "2025-02-21T20:07:09.189Z"
   },
   {
    "duration": 45,
    "start_time": "2025-02-21T20:07:09.199Z"
   },
   {
    "duration": 5,
    "start_time": "2025-02-21T20:07:09.245Z"
   },
   {
    "duration": 4,
    "start_time": "2025-02-21T20:07:09.254Z"
   },
   {
    "duration": 2663,
    "start_time": "2025-02-21T20:07:09.260Z"
   },
   {
    "duration": 2,
    "start_time": "2025-02-21T20:07:11.925Z"
   },
   {
    "duration": 4,
    "start_time": "2025-02-21T20:07:11.929Z"
   },
   {
    "duration": 8,
    "start_time": "2025-02-21T20:07:11.935Z"
   },
   {
    "duration": 8,
    "start_time": "2025-02-21T20:07:11.945Z"
   },
   {
    "duration": 2,
    "start_time": "2025-02-21T20:07:11.954Z"
   },
   {
    "duration": 12,
    "start_time": "2025-02-21T20:07:11.958Z"
   },
   {
    "duration": 27,
    "start_time": "2025-02-21T20:07:11.971Z"
   },
   {
    "duration": 7,
    "start_time": "2025-02-21T20:07:12.000Z"
   },
   {
    "duration": 35,
    "start_time": "2025-02-21T20:07:12.009Z"
   },
   {
    "duration": 9,
    "start_time": "2025-02-21T20:07:12.045Z"
   },
   {
    "duration": 9,
    "start_time": "2025-02-21T20:07:12.056Z"
   },
   {
    "duration": 4,
    "start_time": "2025-02-21T20:07:12.067Z"
   },
   {
    "duration": 4,
    "start_time": "2025-02-21T20:07:12.072Z"
   },
   {
    "duration": 5,
    "start_time": "2025-02-21T20:07:12.077Z"
   },
   {
    "duration": 4,
    "start_time": "2025-02-21T20:07:12.083Z"
   },
   {
    "duration": 5,
    "start_time": "2025-02-21T20:07:12.090Z"
   },
   {
    "duration": 44,
    "start_time": "2025-02-21T20:07:12.099Z"
   },
   {
    "duration": 3,
    "start_time": "2025-02-21T20:07:12.145Z"
   },
   {
    "duration": 20,
    "start_time": "2025-02-21T20:07:12.149Z"
   },
   {
    "duration": 6,
    "start_time": "2025-02-21T20:07:12.170Z"
   },
   {
    "duration": 277,
    "start_time": "2025-02-21T20:07:12.179Z"
   },
   {
    "duration": 5,
    "start_time": "2025-02-21T20:07:12.459Z"
   },
   {
    "duration": 342,
    "start_time": "2025-02-21T20:07:12.465Z"
   },
   {
    "duration": 4,
    "start_time": "2025-02-21T20:07:12.809Z"
   },
   {
    "duration": 5,
    "start_time": "2025-02-21T20:07:12.814Z"
   },
   {
    "duration": 23,
    "start_time": "2025-02-21T20:07:12.820Z"
   },
   {
    "duration": 10,
    "start_time": "2025-02-21T20:07:12.844Z"
   },
   {
    "duration": 6,
    "start_time": "2025-02-21T20:07:12.856Z"
   },
   {
    "duration": 77,
    "start_time": "2025-02-21T20:07:12.865Z"
   },
   {
    "duration": 6,
    "start_time": "2025-02-21T20:07:12.944Z"
   },
   {
    "duration": 90,
    "start_time": "2025-02-21T20:07:12.953Z"
   },
   {
    "duration": 3,
    "start_time": "2025-02-21T20:07:13.045Z"
   },
   {
    "duration": 5,
    "start_time": "2025-02-21T20:07:13.049Z"
   },
   {
    "duration": 3,
    "start_time": "2025-02-21T20:07:13.055Z"
   },
   {
    "duration": 3,
    "start_time": "2025-02-21T20:07:13.060Z"
   },
   {
    "duration": 6,
    "start_time": "2025-02-21T20:07:13.065Z"
   },
   {
    "duration": 4,
    "start_time": "2025-02-21T20:07:13.072Z"
   },
   {
    "duration": 3,
    "start_time": "2025-02-21T20:07:13.078Z"
   },
   {
    "duration": 64,
    "start_time": "2025-02-21T20:07:13.082Z"
   },
   {
    "duration": 10,
    "start_time": "2025-02-21T20:07:13.147Z"
   },
   {
    "duration": 6,
    "start_time": "2025-02-21T20:07:13.158Z"
   },
   {
    "duration": 82,
    "start_time": "2025-02-21T20:07:13.165Z"
   },
   {
    "duration": 4,
    "start_time": "2025-02-21T20:07:13.249Z"
   },
   {
    "duration": 2,
    "start_time": "2025-02-21T20:07:13.256Z"
   },
   {
    "duration": 3,
    "start_time": "2025-02-21T20:07:13.261Z"
   },
   {
    "duration": 4,
    "start_time": "2025-02-21T20:07:13.266Z"
   },
   {
    "duration": 4,
    "start_time": "2025-02-21T20:07:13.344Z"
   },
   {
    "duration": 5,
    "start_time": "2025-02-21T20:07:13.350Z"
   },
   {
    "duration": 3,
    "start_time": "2025-02-21T20:07:13.357Z"
   },
   {
    "duration": 7,
    "start_time": "2025-02-21T20:07:13.362Z"
   },
   {
    "duration": 6,
    "start_time": "2025-02-21T20:07:13.444Z"
   },
   {
    "duration": 2774,
    "start_time": "2025-02-22T03:35:54.786Z"
   },
   {
    "duration": 11,
    "start_time": "2025-02-22T03:35:57.562Z"
   },
   {
    "duration": 4,
    "start_time": "2025-02-22T03:35:57.575Z"
   },
   {
    "duration": 11,
    "start_time": "2025-02-22T03:35:57.580Z"
   },
   {
    "duration": 10,
    "start_time": "2025-02-22T03:35:57.608Z"
   },
   {
    "duration": 4,
    "start_time": "2025-02-22T03:35:57.620Z"
   },
   {
    "duration": 9,
    "start_time": "2025-02-22T03:35:57.625Z"
   },
   {
    "duration": 16,
    "start_time": "2025-02-22T03:35:57.635Z"
   },
   {
    "duration": 5,
    "start_time": "2025-02-22T03:35:57.652Z"
   },
   {
    "duration": 4,
    "start_time": "2025-02-22T03:35:57.659Z"
   },
   {
    "duration": 2628,
    "start_time": "2025-02-22T03:35:57.665Z"
   },
   {
    "duration": 3,
    "start_time": "2025-02-22T03:36:00.295Z"
   },
   {
    "duration": 5,
    "start_time": "2025-02-22T03:36:00.299Z"
   },
   {
    "duration": 92,
    "start_time": "2025-02-22T03:36:00.307Z"
   },
   {
    "duration": 13,
    "start_time": "2025-02-22T03:36:00.400Z"
   },
   {
    "duration": 3,
    "start_time": "2025-02-22T03:36:00.415Z"
   },
   {
    "duration": 14,
    "start_time": "2025-02-22T03:36:00.419Z"
   },
   {
    "duration": 28,
    "start_time": "2025-02-22T03:36:00.435Z"
   },
   {
    "duration": 8,
    "start_time": "2025-02-22T03:36:00.465Z"
   },
   {
    "duration": 36,
    "start_time": "2025-02-22T03:36:00.474Z"
   },
   {
    "duration": 9,
    "start_time": "2025-02-22T03:36:00.512Z"
   },
   {
    "duration": 10,
    "start_time": "2025-02-22T03:36:00.522Z"
   },
   {
    "duration": 7,
    "start_time": "2025-02-22T03:36:00.533Z"
   },
   {
    "duration": 3,
    "start_time": "2025-02-22T03:36:00.542Z"
   },
   {
    "duration": 6,
    "start_time": "2025-02-22T03:36:00.547Z"
   },
   {
    "duration": 4,
    "start_time": "2025-02-22T03:36:00.556Z"
   },
   {
    "duration": 7,
    "start_time": "2025-02-22T03:36:00.562Z"
   },
   {
    "duration": 3,
    "start_time": "2025-02-22T03:36:00.609Z"
   },
   {
    "duration": 3,
    "start_time": "2025-02-22T03:36:00.614Z"
   },
   {
    "duration": 20,
    "start_time": "2025-02-22T03:36:00.618Z"
   },
   {
    "duration": 5,
    "start_time": "2025-02-22T03:36:00.640Z"
   },
   {
    "duration": 291,
    "start_time": "2025-02-22T03:36:00.647Z"
   },
   {
    "duration": 7,
    "start_time": "2025-02-22T03:36:00.940Z"
   },
   {
    "duration": 249,
    "start_time": "2025-02-22T03:36:00.948Z"
   },
   {
    "duration": 49,
    "start_time": "2025-02-22T03:38:18.367Z"
   },
   {
    "duration": 294,
    "start_time": "2025-02-22T03:38:23.184Z"
   }
  ],
  "kernelspec": {
   "display_name": "base",
   "language": "python",
   "name": "python3"
  },
  "language_info": {
   "codemirror_mode": {
    "name": "ipython",
    "version": 3
   },
   "file_extension": ".py",
   "mimetype": "text/x-python",
   "name": "python",
   "nbconvert_exporter": "python",
   "pygments_lexer": "ipython3",
   "version": "3.12.4"
  },
  "toc": {
   "base_numbering": 1,
   "nav_menu": {},
   "number_sections": true,
   "sideBar": true,
   "skip_h1_title": true,
   "title_cell": "Table of Contents",
   "title_sidebar": "Contents",
   "toc_cell": false,
   "toc_position": {
    "height": "calc(100% - 180px)",
    "left": "10px",
    "top": "150px",
    "width": "243.8px"
   },
   "toc_section_display": true,
   "toc_window_display": true
  }
 },
 "nbformat": 4,
 "nbformat_minor": 4
}
